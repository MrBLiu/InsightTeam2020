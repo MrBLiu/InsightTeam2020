{
 "cells": [
  {
   "cell_type": "code",
   "execution_count": 1,
   "metadata": {},
   "outputs": [
    {
     "name": "stderr",
     "output_type": "stream",
     "text": [
      "/Users/SofiaS/opt/anaconda3/lib/python3.7/site-packages/sklearn/externals/six.py:31: FutureWarning: The module is deprecated in version 0.21 and will be removed in version 0.23 since we've dropped support for Python 2.7. Please rely on the official version of six (https://pypi.org/project/six/).\n",
      "  \"(https://pypi.org/project/six/).\", FutureWarning)\n"
     ]
    }
   ],
   "source": [
    "import pandas as pd\n",
    "import numpy as np\n",
    "from sklearn.linear_model import LinearRegression\n",
    "from sklearn.model_selection import train_test_split\n",
    "from sklearn import metrics\n",
    "import scipy.stats as stats\n",
    "%matplotlib inline\n",
    "import matplotlib.pyplot as plt\n",
    "import matplotlib\n",
    "from sklearn.cluster import KMeans\n",
    "import seaborn as sns; sns.set()\n",
    "import csv\n",
    "from random import seed\n",
    "from random import randrange\n",
    "from csv import reader\n",
    "from math import sqrt\n",
    "from sklearn.neighbors import KNeighborsClassifier\n",
    "from sklearn.utils import resample\n",
    "from imblearn.over_sampling import SMOTE\n",
    "from collections import Counter\n",
    "\n",
    "import seaborn as sns\n",
    "import matplotlib.pyplot as plt\n",
    "from matplotlib import pyplot as plt\n",
    "import os\n",
    "from sklearn import datasets\n",
    "from sklearn.metrics import mean_squared_error, accuracy_score\n",
    "from sklearn.externals.six import StringIO\n",
    "\n",
    "from sklearn.model_selection import cross_validate\n",
    "from sklearn.model_selection import cross_val_score\n",
    "from sklearn.model_selection import GridSearchCV\n",
    "from sklearn.metrics import confusion_matrix\n",
    "from sklearn.metrics import precision_score\n",
    "from sklearn.metrics import accuracy_score\n",
    "from sklearn.metrics import roc_auc_score\n",
    "from sklearn import metrics\n",
    "\n",
    "#visualization\n",
    "from matplotlib import pyplot as plt\n",
    "%matplotlib inline\n",
    "import seaborn as sns\n",
    "sns.set(style='whitegrid')\n",
    "\n",
    "from IPython.display import Image\n",
    "from sklearn.tree import export_graphviz\n",
    "\n",
    "# Import packages\n",
    "import pandas as pd\n",
    "import numpy as np\n",
    "from scipy import stats\n",
    "import math\n",
    "from sklearn import datasets\n",
    "\n",
    "#Seaborn makes creating attractive graphs simpler\n",
    "import seaborn as sns\n",
    "sns.set(rc={'figure.figsize':(6,6)},font_scale=1,style='whitegrid')\n",
    "\n",
    "#Matplotlib allows for completely custom graphing\n",
    "from matplotlib import pyplot as plt\n",
    "%matplotlib inline\n",
    "\n",
    "from sklearn.neural_network import MLPClassifier, MLPRegressor\n",
    "from sklearn import datasets\n",
    "from sklearn.model_selection import train_test_split\n",
    "from sklearn.preprocessing import label_binarize\n",
    "from sklearn.metrics import auc, confusion_matrix, roc_curve\n",
    "from sklearn.model_selection import StratifiedKFold\n",
    "from sklearn.feature_selection import RFECV\n",
    "from sklearn.model_selection import GridSearchCV\n",
    "from sklearn.model_selection import cross_val_score\n",
    "from sklearn.svm import LinearSVC\n",
    "from sklearn.tree import DecisionTreeClassifier\n",
    "from sklearn.linear_model import Ridge, Lasso\n",
    "\n",
    "from scipy import interp\n",
    "from itertools import cycle\n",
    "import numpy as np\n",
    "from numpy.linalg import norm\n",
    "\n",
    "from sklearn import datasets\n",
    "from sklearn import svm\n",
    "\n",
    "from sklearn.utils import resample\n",
    "#from imblearn.over_sampling import SMOTE\n",
    "from collections import Counter\n",
    "import itertools\n",
    "\n",
    "from sklearn.tree import DecisionTreeRegressor\n",
    "from sklearn.tree import DecisionTreeClassifier\n",
    "from sklearn.ensemble import RandomForestClassifier\n",
    "from sklearn.ensemble import RandomForestRegressor"
   ]
  },
  {
   "cell_type": "code",
   "execution_count": null,
   "metadata": {},
   "outputs": [],
   "source": []
  },
  {
   "cell_type": "code",
   "execution_count": 26,
   "metadata": {},
   "outputs": [
    {
     "name": "stdout",
     "output_type": "stream",
     "text": [
      "NUMTIME                          float64\n",
      "BOROUGH                           object\n",
      "LATITUDE                         float64\n",
      "LONGITUDE                        float64\n",
      "NUMBER OF PERSONS INJURED        float64\n",
      "NUMBER OF PERSONS KILLED         float64\n",
      "NUMBER OF PEDESTRIANS INJURED      int64\n",
      "NUMBER OF PEDESTRIANS KILLED       int64\n",
      "NUMBER OF CYCLIST INJURED          int64\n",
      "NUMBER OF CYCLIST KILLED           int64\n",
      "NUMBER OF MOTORIST INJURED         int64\n",
      "NUMBER OF MOTORIST KILLED          int64\n",
      "CONTRIBUTING FACTOR VEHICLE 1     object\n",
      "CONTRIBUTING FACTOR VEHICLE 2     object\n",
      "dtype: object\n",
      "(1048575, 14)\n"
     ]
    }
   ],
   "source": [
    "rdata = pd.read_csv(\"/Users/SofiaS/Documents/GitHub/InsightTeam2020/Jeffrey/Motor_Vehicle_Crashes_Reduced.csv\")\n",
    "print(rdata.dtypes)\n",
    "print(rdata.shape)"
   ]
  },
  {
   "cell_type": "code",
   "execution_count": 22,
   "metadata": {},
   "outputs": [],
   "source": [
    "def cyclist_to_bin(x):\n",
    "    if x == 0:\n",
    "        return 0\n",
    "    else:\n",
    "        return 1\n",
    "def motorist_to_bin(x):\n",
    "    if x == 0:\n",
    "        return 0\n",
    "    else:\n",
    "        return 1\n",
    "def pedestrian_to_bin(x):\n",
    "    if x == 0:\n",
    "        return 0\n",
    "    else:\n",
    "        return 1\n",
    "def rush_to_bin(x):\n",
    "    if 7.5<x<9 or 16.5<x<19:\n",
    "        return 1\n",
    "    else:\n",
    "        return 0\n",
    "def persons_to_bin(x):\n",
    "    if x == 0:\n",
    "        return 0\n",
    "    else:\n",
    "        return 1\n",
    "def persons_to_class(x):\n",
    "    if x[2] == 1:\n",
    "        return 1\n",
    "    if x[3] == 1:\n",
    "        return 2\n",
    "    if x[4] == 1:\n",
    "        return 3\n",
    "    else:\n",
    "        return 0\n",
    "def multiple_personas(x):\n",
    "    return x[2]+x[3]+x[4]"
   ]
  },
  {
   "cell_type": "code",
   "execution_count": null,
   "metadata": {},
   "outputs": [],
   "source": []
  },
  {
   "cell_type": "code",
   "execution_count": 27,
   "metadata": {},
   "outputs": [],
   "source": [
    "data[\"CYCLIST_AFFECTED\"] = data[\"NUMBER OF CYCLIST INJURED\"]+data[\"NUMBER OF CYCLIST KILLED\"]\n",
    "data[\"MOTORIST_AFFECTED\"] = data[\"NUMBER OF MOTORIST INJURED\"]+data[\"NUMBER OF MOTORIST KILLED\"]\n",
    "data[\"PEDESTRIAN_AFFECTED\"] = data[\"NUMBER OF PEDESTRIANS INJURED\"]+data[\"NUMBER OF PEDESTRIANS KILLED\"]\n",
    "data['PERSONS_AFFECTED'] = data['NUMBER OF PERSONS KILLED'] + data['NUMBER OF PERSONS INJURED']\n",
    "data['PERSONS_TF']= data['PERSONS_AFFECTED'].apply(persons_to_bin)\n",
    "data['MOTORIST_TF']= data[\"MOTORIST_AFFECTED\"].apply(motorist_to_bin)\n",
    "data['CYCLIST_TF']= data[\"CYCLIST_AFFECTED\"].apply(cyclist_to_bin)\n",
    "data['PEDESTRIAN_TF']= data[\"PEDESTRIAN_AFFECTED\"].apply(pedestrian_to_bin)\n",
    "data['RUSH_TF'] = data['NUMTIME'].apply(rush_to_bin)\n",
    "data['PERSONS_AFFECTED'] = data['NUMBER OF PERSONS KILLED'] + data['NUMBER OF PERSONS INJURED']"
   ]
  },
  {
   "cell_type": "code",
   "execution_count": 28,
   "metadata": {},
   "outputs": [
    {
     "name": "stderr",
     "output_type": "stream",
     "text": [
      "/Users/SofiaS/opt/anaconda3/lib/python3.7/site-packages/ipykernel_launcher.py:5: SettingWithCopyWarning: \n",
      "A value is trying to be set on a copy of a slice from a DataFrame.\n",
      "Try using .loc[row_indexer,col_indexer] = value instead\n",
      "\n",
      "See the caveats in the documentation: http://pandas.pydata.org/pandas-docs/stable/user_guide/indexing.html#returning-a-view-versus-a-copy\n",
      "  \"\"\"\n",
      "/Users/SofiaS/opt/anaconda3/lib/python3.7/site-packages/ipykernel_launcher.py:6: SettingWithCopyWarning: \n",
      "A value is trying to be set on a copy of a slice from a DataFrame.\n",
      "Try using .loc[row_indexer,col_indexer] = value instead\n",
      "\n",
      "See the caveats in the documentation: http://pandas.pydata.org/pandas-docs/stable/user_guide/indexing.html#returning-a-view-versus-a-copy\n",
      "  \n",
      "/Users/SofiaS/opt/anaconda3/lib/python3.7/site-packages/ipykernel_launcher.py:7: SettingWithCopyWarning: \n",
      "A value is trying to be set on a copy of a slice from a DataFrame.\n",
      "Try using .loc[row_indexer,col_indexer] = value instead\n",
      "\n",
      "See the caveats in the documentation: http://pandas.pydata.org/pandas-docs/stable/user_guide/indexing.html#returning-a-view-versus-a-copy\n",
      "  import sys\n"
     ]
    },
    {
     "name": "stdout",
     "output_type": "stream",
     "text": [
      "Human            700952\n",
      "Unspecified      271594\n",
      "Vehicular         47800\n",
      "Environmental     24862\n",
      "Name: CONTRIBUTING FACTOR VEHICLE 1, dtype: int64\n",
      "None\n"
     ]
    },
    {
     "name": "stderr",
     "output_type": "stream",
     "text": [
      "/Users/SofiaS/opt/anaconda3/lib/python3.7/site-packages/ipykernel_launcher.py:8: SettingWithCopyWarning: \n",
      "A value is trying to be set on a copy of a slice from a DataFrame.\n",
      "Try using .loc[row_indexer,col_indexer] = value instead\n",
      "\n",
      "See the caveats in the documentation: http://pandas.pydata.org/pandas-docs/stable/user_guide/indexing.html#returning-a-view-versus-a-copy\n",
      "  \n"
     ]
    }
   ],
   "source": [
    "value_counts = data[\"CONTRIBUTING FACTOR VEHICLE 1\"].value_counts(ascending=True)\n",
    "remove = value_counts[value_counts <= 20].index\n",
    "data = data[~data['CONTRIBUTING FACTOR VEHICLE 1'].isin(remove)]\n",
    "\n",
    "data['CONTRIBUTING FACTOR VEHICLE 1'] = data['CONTRIBUTING FACTOR VEHICLE 1'].replace(['Driver Inattention/Distraction','Following Too Closely','Failure to Yield Right-of-Way','Backing Unsafely','Passing Too Closely','Unsafe Lane Changing','Passing or Lane Usage Improper','Turning Improperly','Traffic Control Disregarded','Driver Inexperience','Reaction to Uninvolved Vehicle','Unsafe Speed','Fatigued/Drowsy','Alcohol Involvement','Lost Consciousness','Aggressive Driving/Road Rage','Fell Asleep','Illnes','Drugs (illegal)','Drugs (Illegal)','Texting','Outside Car Distraction','Passenger Distraction','Prescription Medication','Failure to Keep Right','Illness','Other Electronic Device','Cell Phone (hand-Held)','Cell Phone (hands-free)','Eating or Drinking','Pedestrian/Bicyclist/Other Pedestrian Error/Confusion','Physical Disability','Reaction to Other Uninvolved Vehicle','Using On Board Navigation Device','Tinted Windows','Vehicle Vandalism','Cell Phone (hand-held)'],'Human')\n",
    "data['CONTRIBUTING FACTOR VEHICLE 1'] = data['CONTRIBUTING FACTOR VEHICLE 1'].replace(['Other Vehicular','Oversized Vehicle','Brakes Defective','Steering Failure','Tire Failure/Inadequate','Driverless/Runaway Vehicle','Accelerator Defective','Other Lighting Defects','Tow Hitch Defective','Headlights Defective','Windshield Inadequate'],'Vehicular')\n",
    "data['CONTRIBUTING FACTOR VEHICLE 1'] = data['CONTRIBUTING FACTOR VEHICLE 1'].replace(['Pavement Slippery','View Obstructed/Limited','Glare','Obstruction/Debris','Pavement Defective','Animals Action','Lane Marking Improper/Inadequate','Traffic Control Device Improper/Non-Working','Shoulders Defective/Improper'],'Environmental')\n",
    "data['CONTRIBUTING FACTOR VEHICLE 1'] = data['CONTRIBUTING FACTOR VEHICLE 1'].replace(['80'],'Unspecified')\n",
    "print(print(data['CONTRIBUTING FACTOR VEHICLE 1'].value_counts()))"
   ]
  },
  {
   "cell_type": "code",
   "execution_count": 29,
   "metadata": {},
   "outputs": [],
   "source": [
    "factor_dummy = data['CONTRIBUTING FACTOR VEHICLE 1'].str.get_dummies()\n",
    "data = pd.concat([data,factor_dummy],axis=1)\n",
    "borough_dummy = data.BOROUGH.str.get_dummies()\n",
    "data = pd.concat([data,borough_dummy],axis=1)"
   ]
  },
  {
   "cell_type": "code",
   "execution_count": 30,
   "metadata": {},
   "outputs": [
    {
     "name": "stdout",
     "output_type": "stream",
     "text": [
      "NUMTIME          float64\n",
      "PERSONS_TF         int64\n",
      "MOTORIST_TF        int64\n",
      "CYCLIST_TF         int64\n",
      "PEDESTRIAN_TF      int64\n",
      "RUSH_TF            int64\n",
      "Environmental      int64\n",
      "Human              int64\n",
      "Unspecified        int64\n",
      "Vehicular          int64\n",
      "BRONX              int64\n",
      "BROOKLYN           int64\n",
      "MANHATTAN          int64\n",
      "QUEENS             int64\n",
      "STATEN ISLAND      int64\n",
      "dtype: object\n"
     ]
    }
   ],
   "source": [
    "data.drop(data.columns[1:18],axis=1,inplace=True)\n",
    "print(data.dtypes)"
   ]
  },
  {
   "cell_type": "code",
   "execution_count": 31,
   "metadata": {},
   "outputs": [
    {
     "data": {
      "text/plain": [
       "0.0    840499\n",
       "1.0    206887\n",
       "2.0      1155\n",
       "3.0         7\n",
       "Name: EDGE_CASES, dtype: int64"
      ]
     },
     "execution_count": 31,
     "metadata": {},
     "output_type": "execute_result"
    }
   ],
   "source": [
    "data['EDGE_CASES'] = data.apply(multiple_personas,axis = 1)\n",
    "data.EDGE_CASES.value_counts()"
   ]
  },
  {
   "cell_type": "code",
   "execution_count": 32,
   "metadata": {},
   "outputs": [
    {
     "name": "stdout",
     "output_type": "stream",
     "text": [
      "(206887, 16)\n",
      "NUMTIME          float64\n",
      "PERSONS_TF         int64\n",
      "MOTORIST_TF        int64\n",
      "CYCLIST_TF         int64\n",
      "PEDESTRIAN_TF      int64\n",
      "RUSH_TF            int64\n",
      "Environmental      int64\n",
      "Human              int64\n",
      "Unspecified        int64\n",
      "Vehicular          int64\n",
      "BRONX              int64\n",
      "BROOKLYN           int64\n",
      "MANHATTAN          int64\n",
      "QUEENS             int64\n",
      "STATEN ISLAND      int64\n",
      "EDGE_CASES       float64\n",
      "dtype: object\n"
     ]
    }
   ],
   "source": [
    "index = data[(data['EDGE_CASES'] != 1)].index\n",
    "data.drop(index,inplace=True)\n",
    "print(data.shape)\n",
    "print(data.dtypes)"
   ]
  },
  {
   "cell_type": "code",
   "execution_count": 33,
   "metadata": {},
   "outputs": [
    {
     "data": {
      "text/plain": [
       "1    136168\n",
       "3     48972\n",
       "2     21747\n",
       "Name: PERSONS_CLASS, dtype: int64"
      ]
     },
     "execution_count": 33,
     "metadata": {},
     "output_type": "execute_result"
    }
   ],
   "source": [
    "data['PERSONS_CLASS'] = data.apply(persons_to_class,axis=1)\n",
    "data.PERSONS_CLASS.value_counts()"
   ]
  },
  {
   "cell_type": "code",
   "execution_count": 42,
   "metadata": {},
   "outputs": [
    {
     "data": {
      "text/plain": [
       "1    136168\n",
       "3     48972\n",
       "2     21747\n",
       "Name: PERSONS_CLASS, dtype: int64"
      ]
     },
     "execution_count": 42,
     "metadata": {},
     "output_type": "execute_result"
    }
   ],
   "source": [
    "model = MLPClassifier(hidden_layer_sizes = (300,300,300), \n",
    "                    activation='relu', \n",
    "                    solver = 'adam', \n",
    "                    verbose=True, \n",
    "                    random_state=0, \n",
    "                    max_iter=500)\n",
    "pred = list(zip(data['NUMTIME'],data['MANHATTAN'],data['QUEENS'],data['BRONX'],data['STATEN ISLAND'],data['BROOKLYN'],data['Human'],data['Environmental'],data['Vehicular'],data['Unspecified']))\n",
    "resp = data['PERSONS_CLASS']\n",
    "resp.value_counts()"
   ]
  },
  {
   "cell_type": "code",
   "execution_count": 43,
   "metadata": {},
   "outputs": [
    {
     "name": "stdout",
     "output_type": "stream",
     "text": [
      "Resampled dataset shape Counter({1: 136168, 2: 136168, 3: 136168})\n"
     ]
    }
   ],
   "source": [
    "sm = SMOTE(random_state=42)\n",
    "x_res,y_res = sm.fit_resample(pred,resp)\n",
    "print('Resampled dataset shape %s' % Counter(y_res))"
   ]
  },
  {
   "cell_type": "code",
   "execution_count": 44,
   "metadata": {},
   "outputs": [
    {
     "name": "stdout",
     "output_type": "stream",
     "text": [
      "Iteration 1, loss = 1.04646474\n",
      "Iteration 2, loss = 1.03400265\n",
      "Iteration 3, loss = 1.03258796\n",
      "Iteration 4, loss = 1.03211679\n",
      "Iteration 5, loss = 1.03132032\n",
      "Iteration 6, loss = 1.03082631\n",
      "Iteration 7, loss = 1.03015072\n",
      "Iteration 8, loss = 1.02954214\n",
      "Iteration 9, loss = 1.02909134\n",
      "Iteration 10, loss = 1.02881940\n",
      "Iteration 11, loss = 1.02848527\n",
      "Iteration 12, loss = 1.02821856\n",
      "Iteration 13, loss = 1.02805856\n",
      "Iteration 14, loss = 1.02764284\n",
      "Iteration 15, loss = 1.02750262\n",
      "Iteration 16, loss = 1.02734070\n",
      "Iteration 17, loss = 1.02718589\n",
      "Iteration 18, loss = 1.02701090\n",
      "Iteration 19, loss = 1.02681745\n",
      "Iteration 20, loss = 1.02668806\n",
      "Iteration 21, loss = 1.02653829\n",
      "Iteration 22, loss = 1.02638067\n",
      "Iteration 23, loss = 1.02622965\n",
      "Iteration 24, loss = 1.02601253\n",
      "Iteration 25, loss = 1.02580527\n",
      "Iteration 26, loss = 1.02575857\n",
      "Iteration 27, loss = 1.02575213\n",
      "Iteration 28, loss = 1.02553623\n",
      "Iteration 29, loss = 1.02545974\n",
      "Iteration 30, loss = 1.02533802\n",
      "Iteration 31, loss = 1.02527088\n",
      "Iteration 32, loss = 1.02512102\n",
      "Iteration 33, loss = 1.02515521\n",
      "Iteration 34, loss = 1.02491502\n",
      "Iteration 35, loss = 1.02496632\n",
      "Iteration 36, loss = 1.02497967\n",
      "Iteration 37, loss = 1.02485685\n",
      "Iteration 38, loss = 1.02473495\n",
      "Iteration 39, loss = 1.02458302\n",
      "Iteration 40, loss = 1.02460614\n",
      "Iteration 41, loss = 1.02454802\n",
      "Iteration 42, loss = 1.02456030\n",
      "Iteration 43, loss = 1.02446812\n",
      "Iteration 44, loss = 1.02445904\n",
      "Iteration 45, loss = 1.02421173\n",
      "Iteration 46, loss = 1.02421570\n",
      "Iteration 47, loss = 1.02430402\n",
      "Iteration 48, loss = 1.02399250\n",
      "Iteration 49, loss = 1.02413787\n",
      "Iteration 50, loss = 1.02390416\n",
      "Iteration 51, loss = 1.02402049\n",
      "Iteration 52, loss = 1.02379348\n",
      "Iteration 53, loss = 1.02376640\n",
      "Iteration 54, loss = 1.02382270\n",
      "Iteration 55, loss = 1.02381950\n",
      "Iteration 56, loss = 1.02363788\n",
      "Iteration 57, loss = 1.02369609\n",
      "Iteration 58, loss = 1.02349382\n",
      "Iteration 59, loss = 1.02374644\n",
      "Iteration 60, loss = 1.02350029\n",
      "Iteration 61, loss = 1.02347784\n",
      "Iteration 62, loss = 1.02351271\n",
      "Iteration 63, loss = 1.02354430\n",
      "Iteration 64, loss = 1.02339542\n",
      "Iteration 65, loss = 1.02334731\n",
      "Iteration 66, loss = 1.02329615\n",
      "Iteration 67, loss = 1.02329211\n",
      "Iteration 68, loss = 1.02339548\n",
      "Iteration 69, loss = 1.02326583\n",
      "Training loss did not improve more than tol=0.000100 for 10 consecutive epochs. Stopping.\n",
      "Accuracy: 0.4609308701612377\n"
     ]
    }
   ],
   "source": [
    "X_train,X_test,y_train,y_test = train_test_split(x_res,y_res,test_size = .3)\n",
    "model.fit(X_train,y_train)\n",
    "y_pred = model.predict(X_test)\n",
    "print(\"Accuracy:\",metrics.accuracy_score(y_test, y_pred))"
   ]
  },
  {
   "cell_type": "code",
   "execution_count": 45,
   "metadata": {},
   "outputs": [
    {
     "name": "stdout",
     "output_type": "stream",
     "text": [
      "MLP Score:  0.4609308701612377\n",
      "Null accuracy on the test set:  2.0002774332528235\n",
      "              precision    recall  f1-score   support\n",
      "\n",
      "           1       0.47      0.54      0.50     40800\n",
      "           2       0.47      0.37      0.41     40918\n",
      "           3       0.44      0.48      0.46     40834\n",
      "\n",
      "    accuracy                           0.46    122552\n",
      "   macro avg       0.46      0.46      0.46    122552\n",
      "weighted avg       0.46      0.46      0.46    122552\n",
      "\n"
     ]
    }
   ],
   "source": [
    "print('MLP Score: ',model.score(X_test,y_test))\n",
    "print(\"Null accuracy on the test set: \",y_test.mean())\n",
    "\n",
    "y_pred = model.predict(X_test)\n",
    "\n",
    "#print(\"Sensitivity/Recall (TPR): \",metrics.recall_score(y_test,y_pred))\n",
    "#print(\"Precision (PPV): \", metrics.precision_score(y_test,y_pred))\n",
    "#print(\"F1:\", metrics.f1_score(y_test,y_pred))\n",
    "\n",
    "#print(\"Null accuracy on the test set: \",y_test.mean())\n",
    "#print(\"Accuracy is:\",metrics.accuracy_score(y_test,y_pred))\n",
    "print(metrics.classification_report(y_test,y_pred))"
   ]
  },
  {
   "cell_type": "code",
   "execution_count": 46,
   "metadata": {},
   "outputs": [
    {
     "data": {
      "text/plain": [
       "[Text(30.5, 0.5, 'Actual Class'),\n",
       " Text(0.5, 30.5, 'Predicted Class'),\n",
       " Text(0.5, 1, 'Confusion Matrix')]"
      ]
     },
     "execution_count": 46,
     "metadata": {},
     "output_type": "execute_result"
    },
    {
     "data": {
      "image/png": "[encoded data removed]",
      "text/plain": [
       "<Figure size 432x432 with 1 Axes>"
      ]
     },
     "metadata": {
      "needs_background": "light"
     },
     "output_type": "display_data"
    }
   ],
   "source": [
    "#X_train, X_test, y_train, y_test = train_test_split(x_res,y_res, test_size=0.3)\n",
    "#model.fit(X_train,y_train)\n",
    "\n",
    "test_cf = pd.DataFrame(confusion_matrix(y_test,model.predict(X_test)))\n",
    "\n",
    "fig, ax = plt.subplots(figsize=(6,6))\n",
    "ax = sns.heatmap(test_cf,annot=True,fmt='d',cmap='Blues',cbar=False)\n",
    "ax.set(xlabel='Predicted Class',ylabel='Actual Class',title='Confusion Matrix')"
   ]
  },
  {
   "cell_type": "code",
   "execution_count": 47,
   "metadata": {},
   "outputs": [
    {
     "data": {
      "text/plain": [
       "[Text(30.5, 0.5, 'Actual Class'),\n",
       " Text(0.5, 30.5, 'Predicted Class'),\n",
       " Text(0.5, 1, 'Normalized Confusion Matrix')]"
      ]
     },
     "execution_count": 47,
     "metadata": {},
     "output_type": "execute_result"
    },
    {
     "data": {
      "image/png": "[encoded data removed]",
      "text/plain": [
       "<Figure size 432x432 with 1 Axes>"
      ]
     },
     "metadata": {
      "needs_background": "light"
     },
     "output_type": "display_data"
    }
   ],
   "source": [
    "test_cf = confusion_matrix(y_test,model.predict(X_test))\n",
    "test_cf = test_cf.astype('float') / test_cf.sum(axis=1)[:, np.newaxis]\n",
    "test_cf = pd.DataFrame((test_cf))\n",
    "                           \n",
    "fig, ax = plt.subplots(figsize=(6,6))\n",
    "ax = sns.heatmap(test_cf,annot=True,cmap='Blues',cbar=False,fmt='.0%')\n",
    "ax.set(xlabel='Predicted Class',ylabel='Actual Class',title='Normalized Confusion Matrix')"
   ]
  },
  {
   "cell_type": "code",
   "execution_count": 51,
   "metadata": {},
   "outputs": [
    {
     "data": {
      "text/plain": [
       "0    159616\n",
       "1     47271\n",
       "Name: RUSH_TF, dtype: int64"
      ]
     },
     "execution_count": 51,
     "metadata": {},
     "output_type": "execute_result"
    }
   ],
   "source": [
    "model = MLPClassifier(hidden_layer_sizes = (300,300,300), \n",
    "                    activation='relu', \n",
    "                    solver = 'adam', \n",
    "                    verbose=True, \n",
    "                    random_state=0, \n",
    "                    max_iter=200)\n",
    "pred2 = list(zip(data['MANHATTAN'],data['QUEENS'],data['BRONX'],data['STATEN ISLAND'],data['BROOKLYN'],data['Human'],data['Environmental'],data['Vehicular'],data['Unspecified']))\n",
    "resp2 = data['RUSH_TF']\n",
    "resp2.value_counts()"
   ]
  },
  {
   "cell_type": "code",
   "execution_count": 52,
   "metadata": {},
   "outputs": [
    {
     "name": "stdout",
     "output_type": "stream",
     "text": [
      "Resampled dataset shape Counter({1: 136168, 2: 136168, 3: 136168})\n"
     ]
    }
   ],
   "source": [
    "sm = SMOTE(random_state=42)\n",
    "x_res2,y_res2 = sm.fit_resample(pred2,resp2)\n",
    "print('Resampled dataset shape %s' % Counter(y_res))"
   ]
  },
  {
   "cell_type": "code",
   "execution_count": 53,
   "metadata": {},
   "outputs": [
    {
     "name": "stdout",
     "output_type": "stream",
     "text": [
      "Iteration 1, loss = 0.69276124\n",
      "Iteration 2, loss = 0.69237384\n",
      "Iteration 3, loss = 0.69230385\n",
      "Iteration 4, loss = 0.69223490\n",
      "Iteration 5, loss = 0.69222531\n",
      "Iteration 6, loss = 0.69219944\n",
      "Iteration 7, loss = 0.69219143\n",
      "Iteration 8, loss = 0.69215763\n",
      "Iteration 9, loss = 0.69213585\n",
      "Iteration 10, loss = 0.69214421\n",
      "Iteration 11, loss = 0.69214484\n",
      "Iteration 12, loss = 0.69211214\n",
      "Iteration 13, loss = 0.69209646\n",
      "Training loss did not improve more than tol=0.000100 for 10 consecutive epochs. Stopping.\n",
      "Accuracy: 0.5219901848177926\n",
      "Null accuracy on the test set:  0.49978072465281403\n"
     ]
    }
   ],
   "source": [
    "X_train2,X_test2,y_train2,y_test2 = train_test_split(x_res2,y_res2,test_size = .3)\n",
    "model.fit(X_train2,y_train2)\n",
    "y_pred2 = model.predict(X_test2)\n",
    "print(\"Accuracy:\",metrics.accuracy_score(y_test2, y_pred2))\n",
    "\n",
    "print(\"Null accuracy on the test set: \",y_test2.mean())"
   ]
  },
  {
   "cell_type": "code",
   "execution_count": 54,
   "metadata": {},
   "outputs": [
    {
     "name": "stdout",
     "output_type": "stream",
     "text": [
      "MLP Scpore:  0.5219901848177926\n",
      "Null accuracy on the test set:  0.49978072465281403\n",
      "Sensitivity/Recall (TPR):  0.5570992812970081\n",
      "Precision (PPV):  0.5203434481412821\n",
      "F1: 0.5380944212937271\n",
      "Null accuracy on the test set:  0.49978072465281403\n",
      "Accuracy is: 0.5219901848177926\n",
      "              precision    recall  f1-score   support\n",
      "\n",
      "           0       0.52      0.49      0.50     47906\n",
      "           1       0.52      0.56      0.54     47864\n",
      "\n",
      "    accuracy                           0.52     95770\n",
      "   macro avg       0.52      0.52      0.52     95770\n",
      "weighted avg       0.52      0.52      0.52     95770\n",
      "\n"
     ]
    }
   ],
   "source": [
    "print('MLP Scpore: ',model.score(X_test2,y_test2))\n",
    "print(\"Null accuracy on the test set: \",y_test2.mean())\n",
    "\n",
    "y_pred2 = model.predict(X_test2)\n",
    "\n",
    "print(\"Sensitivity/Recall (TPR): \",metrics.recall_score(y_test2,y_pred2))\n",
    "print(\"Precision (PPV): \", metrics.precision_score(y_test2,y_pred2))\n",
    "print(\"F1:\", metrics.f1_score(y_test2,y_pred2))\n",
    "\n",
    "print(\"Null accuracy on the test set: \",y_test2.mean())\n",
    "print(\"Accuracy is:\",metrics.accuracy_score(y_test2,y_pred2))\n",
    "print(metrics.classification_report(y_test2,y_pred2))"
   ]
  },
  {
   "cell_type": "code",
   "execution_count": 55,
   "metadata": {},
   "outputs": [
    {
     "data": {
      "text/plain": [
       "[Text(30.5, 0.5, 'Actual Class'),\n",
       " Text(0.5, 30.5, 'Predicted Class'),\n",
       " Text(0.5, 1, 'Confusion Matrix')]"
      ]
     },
     "execution_count": 55,
     "metadata": {},
     "output_type": "execute_result"
    },
    {
     "data": {
      "image/png": "[encoded data removed]",
      "text/plain": [
       "<Figure size 432x432 with 1 Axes>"
      ]
     },
     "metadata": {
      "needs_background": "light"
     },
     "output_type": "display_data"
    }
   ],
   "source": [
    "#X_train2, X_test2, y_train2, y_test2 = train_test_split(x_res2,y_res2, test_size=0.3)\n",
    "#model.fit(X_train2,y_train2)\n",
    "\n",
    "test_cf = pd.DataFrame(confusion_matrix(y_test2,model.predict(X_test2)))\n",
    "\n",
    "fig, ax = plt.subplots(figsize=(6,6))\n",
    "ax = sns.heatmap(test_cf,annot=True,fmt='d',cmap='Blues',cbar=False)\n",
    "ax.set(xlabel='Predicted Class',ylabel='Actual Class',title='Confusion Matrix')"
   ]
  },
  {
   "cell_type": "code",
   "execution_count": 56,
   "metadata": {},
   "outputs": [
    {
     "data": {
      "text/plain": [
       "[Text(30.5, 0.5, 'Actual Class'),\n",
       " Text(0.5, 30.5, 'Predicted Class'),\n",
       " Text(0.5, 1, 'Normalized Confusion Matrix')]"
      ]
     },
     "execution_count": 56,
     "metadata": {},
     "output_type": "execute_result"
    },
    {
     "data": {
      "image/png": "[encoded data removed]",
      "text/plain": [
       "<Figure size 432x432 with 1 Axes>"
      ]
     },
     "metadata": {
      "needs_background": "light"
     },
     "output_type": "display_data"
    }
   ],
   "source": [
    "test_cf = confusion_matrix(y_test2,model.predict(X_test2))\n",
    "test_cf = test_cf.astype('float') / test_cf.sum(axis=1)[:, np.newaxis]\n",
    "test_cf = pd.DataFrame((test_cf))\n",
    "                           \n",
    "fig, ax = plt.subplots(figsize=(6,6))\n",
    "ax = sns.heatmap(test_cf,annot=True,cmap='Blues',cbar=False,fmt='.0%')\n",
    "ax.set(xlabel='Predicted Class',ylabel='Actual Class',title='Normalized Confusion Matrix')"
   ]
  },
  {
   "cell_type": "code",
   "execution_count": null,
   "metadata": {},
   "outputs": [],
   "source": []
  }
 ],
 "metadata": {
  "kernelspec": {
   "display_name": "Python 3",
   "language": "python",
   "name": "python3"
  },
  "language_info": {
   "codemirror_mode": {
    "name": "ipython",
    "version": 3
   },
   "file_extension": ".py",
   "mimetype": "text/x-python",
   "name": "python",
   "nbconvert_exporter": "python",
   "pygments_lexer": "ipython3",
   "version": "3.7.4"
  }
 },
 "nbformat": 4,
 "nbformat_minor": 2
}
