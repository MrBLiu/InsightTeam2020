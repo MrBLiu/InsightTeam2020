{
 "cells": [
  {
   "cell_type": "code",
   "execution_count": 3,
   "metadata": {},
   "outputs": [],
   "source": [
    "import pandas as pd\n",
    "import numpy as np\n",
    "from sklearn.linear_model import LinearRegression, LogisticRegression\n",
    "from sklearn.linear_model import Lasso\n",
    "from sklearn.model_selection import train_test_split\n",
    "from sklearn import metrics\n",
    "import scipy.stats\n",
    "import matplotlib.pyplot as plt\n",
    "import seaborn as sns\n",
    "%matplotlib inline\n",
    "sns.set()"
   ]
  },
  {
   "cell_type": "code",
   "execution_count": 4,
   "metadata": {},
   "outputs": [
    {
     "name": "stderr",
     "output_type": "stream",
     "text": [
      "/opt/anaconda3/lib/python3.7/site-packages/IPython/core/interactiveshell.py:3058: DtypeWarning: Columns (3) have mixed types. Specify dtype option on import or set low_memory=False.\n",
      "  interactivity=interactivity, compiler=compiler, result=result)\n"
     ]
    },
    {
     "name": "stdout",
     "output_type": "stream",
     "text": [
      "Index(['CRASH DATE', 'CRASH TIME', 'BOROUGH', 'ZIP CODE', 'LATITUDE',\n",
      "       'LONGITUDE', 'LOCATION', 'ON STREET NAME', 'CROSS STREET NAME',\n",
      "       'OFF STREET NAME', 'NUMBER OF PERSONS INJURED',\n",
      "       'NUMBER OF PERSONS KILLED', 'NUMBER OF PEDESTRIANS INJURED',\n",
      "       'NUMBER OF PEDESTRIANS KILLED', 'NUMBER OF CYCLIST INJURED',\n",
      "       'NUMBER OF CYCLIST KILLED', 'NUMBER OF MOTORIST INJURED',\n",
      "       'NUMBER OF MOTORIST KILLED', 'CONTRIBUTING FACTOR VEHICLE 1',\n",
      "       'CONTRIBUTING FACTOR VEHICLE 2', 'CONTRIBUTING FACTOR VEHICLE 3',\n",
      "       'CONTRIBUTING FACTOR VEHICLE 4', 'CONTRIBUTING FACTOR VEHICLE 5',\n",
      "       'COLLISION_ID', 'VEHICLE TYPE CODE 1', 'VEHICLE TYPE CODE 2',\n",
      "       'VEHICLE TYPE CODE 3', 'VEHICLE TYPE CODE 4', 'VEHICLE TYPE CODE 5'],\n",
      "      dtype='object')\n"
     ]
    }
   ],
   "source": [
    "data = pd.read_csv(\"MVC.csv\")\n",
    "print(data.columns)"
   ]
  },
  {
   "cell_type": "code",
   "execution_count": 5,
   "metadata": {},
   "outputs": [],
   "source": [
    "feature_cols = data.columns[4]\n",
    "resp_col = data.columns[11]\n",
    "x = data[feature_cols].copy()\n",
    "y = data[resp_col].copy()"
   ]
  },
  {
   "cell_type": "code",
   "execution_count": 6,
   "metadata": {},
   "outputs": [
    {
     "name": "stdout",
     "output_type": "stream",
     "text": [
      "(1671103, 1)\n",
      "(1671103, 1)\n"
     ]
    }
   ],
   "source": [
    "x=x>0\n",
    "y=y>0\n",
    "x = x.dropna()\n",
    "y = y.dropna()\n",
    "pred = np.array(x)\n",
    "response = np.array(y)\n",
    "pred = pred.reshape(-1,1)\n",
    "response = response.reshape(-1,1)\n",
    "print(pred.shape)\n",
    "print(response.shape)"
   ]
  },
  {
   "cell_type": "code",
   "execution_count": 7,
   "metadata": {},
   "outputs": [
    {
     "name": "stdout",
     "output_type": "stream",
     "text": [
      "The slope is:  [[-0.00015662]]\n",
      "The y-intercept is [0.00126741]\n",
      "2.317509980254151e-06\n",
      "0.0011285136708110862\n"
     ]
    }
   ],
   "source": [
    "linreg = LinearRegression()\n",
    "linreg.fit(pred,response)\n",
    "end = linreg.predict(pred)\n",
    "print(\"The slope is: \",linreg.coef_)\n",
    "print(\"The y-intercept is\",linreg.intercept_)\n",
    "print(metrics.r2_score(y,end))\n",
    "print(metrics.mean_squared_error(y, end))"
   ]
  },
  {
   "cell_type": "code",
   "execution_count": 8,
   "metadata": {},
   "outputs": [],
   "source": [
    "def borough(x):\n",
    "    if x==\"QUEENS\":\n",
    "        return 1\n",
    "    if x=='BROOKLYN':\n",
    "        return 2\n",
    "    if x=='MANHATTAN':\n",
    "        return 3\n",
    "    if x=='BRONX':\n",
    "        return 4\n",
    "    if x=='STATEN ISLAND':\n",
    "        return 5\n",
    "    else:\n",
    "        return 0"
   ]
  },
  {
   "cell_type": "code",
   "execution_count": 9,
   "metadata": {},
   "outputs": [
    {
     "name": "stdout",
     "output_type": "stream",
     "text": [
      "<function borough at 0x1a1c89f050>\n"
     ]
    }
   ],
   "source": [
    "data['BOROUGH']=data['BOROUGH'].apply(borough)\n",
    "print(borough)"
   ]
  },
  {
   "cell_type": "code",
   "execution_count": 10,
   "metadata": {},
   "outputs": [],
   "source": [
    "def dn(x):\n",
    "    h,m=x.split(':')\n",
    "    h=int(h)\n",
    "    m=int(m)\n",
    "    if h>=12:\n",
    "        return 1\n",
    "    else:\n",
    "        return 0\n",
    "data['CRASH TIME'] = data['CRASH TIME'].apply(dn)"
   ]
  },
  {
   "cell_type": "code",
   "execution_count": 11,
   "metadata": {},
   "outputs": [],
   "source": [
    "def BL(x):\n",
    "    if x>0:\n",
    "        return 1\n",
    "    else:\n",
    "        return 0\n",
    "data['NUMBER OF PERSONS INJURED'] = data['NUMBER OF PERSONS INJURED'].apply(BL)"
   ]
  },
  {
   "cell_type": "code",
   "execution_count": 12,
   "metadata": {},
   "outputs": [
    {
     "name": "stderr",
     "output_type": "stream",
     "text": [
      "/opt/anaconda3/lib/python3.7/site-packages/sklearn/linear_model/logistic.py:432: FutureWarning: Default solver will be changed to 'lbfgs' in 0.22. Specify a solver to silence this warning.\n",
      "  FutureWarning)\n"
     ]
    },
    {
     "name": "stdout",
     "output_type": "stream",
     "text": [
      "The slope is:  [[ 0.06542331 -0.03256069]]\n",
      "The y-intercept is [-1.41613112]\n",
      "-0.24001813535325334\n"
     ]
    }
   ],
   "source": [
    "logreg = LogisticRegression(C=1e9)\n",
    "data['CRASH TIME']=data['CRASH TIME'].dropna()\n",
    "data['BOROUGH']=data['BOROUGH'].dropna()\n",
    "valuablecols=['CRASH TIME','BOROUGH']\n",
    "X = data[valuablecols]\n",
    "y = data['NUMBER OF PERSONS INJURED']\n",
    "y.dropna()\n",
    "pred = np.array(X)\n",
    "response = np.array(y)\n",
    "pred = pred.reshape(-1,1)\n",
    "response = response.reshape(-1,1)\n",
    "logreg.fit(X, y)\n",
    "outcome_pred_class_log = logreg.predict(X)\n",
    "print(\"The slope is: \",logreg.coef_)\n",
    "print(\"The y-intercept is\",logreg.intercept_)\n",
    "print(metrics.r2_score(y,outcome_pred_class_log))"
   ]
  },
  {
   "cell_type": "code",
   "execution_count": 13,
   "metadata": {},
   "outputs": [],
   "source": [
    "feature_cols = data.columns[10]\n",
    "resp_col = data.columns[11]\n",
    "x = data[feature_cols].copy()\n",
    "y = data[resp_col].copy()"
   ]
  },
  {
   "cell_type": "code",
   "execution_count": 14,
   "metadata": {},
   "outputs": [
    {
     "name": "stdout",
     "output_type": "stream",
     "text": [
      "(1671103, 1)\n",
      "(1671103, 1)\n"
     ]
    }
   ],
   "source": [
    "x=x>0\n",
    "y=y>0\n",
    "x = x.dropna()\n",
    "y = y.dropna()\n",
    "pred = np.array(x)\n",
    "response = np.array(y)\n",
    "pred = pred.reshape(-1,1)\n",
    "response = response.reshape(-1,1)\n",
    "print(pred.shape)\n",
    "print(response.shape)"
   ]
  },
  {
   "cell_type": "code",
   "execution_count": 15,
   "metadata": {},
   "outputs": [
    {
     "name": "stdout",
     "output_type": "stream",
     "text": [
      "The slope is:  [[0.00037017]]\n",
      "The y-intercept is [0.00105814]\n",
      "1.8952987005826927e-05\n",
      "0.0011284948974043347\n"
     ]
    }
   ],
   "source": [
    "linreg = LinearRegression()\n",
    "linreg.fit(pred,response)\n",
    "end = linreg.predict(pred)\n",
    "print(\"The slope is: \",linreg.coef_)\n",
    "print(\"The y-intercept is\",linreg.intercept_)\n",
    "print(metrics.r2_score(y,end))\n",
    "print(metrics.mean_squared_error(y, end))"
   ]
  },
  {
   "cell_type": "code",
   "execution_count": null,
   "metadata": {},
   "outputs": [],
   "source": []
  },
  {
   "cell_type": "code",
   "execution_count": null,
   "metadata": {},
   "outputs": [],
   "source": []
  }
 ],
 "metadata": {
  "kernelspec": {
   "display_name": "Python 3",
   "language": "python",
   "name": "python3"
  },
  "language_info": {
   "codemirror_mode": {
    "name": "ipython",
    "version": 3
   },
   "file_extension": ".py",
   "mimetype": "text/x-python",
   "name": "python",
   "nbconvert_exporter": "python",
   "pygments_lexer": "ipython3",
   "version": "3.7.4"
  }
 },
 "nbformat": 4,
 "nbformat_minor": 2
}
