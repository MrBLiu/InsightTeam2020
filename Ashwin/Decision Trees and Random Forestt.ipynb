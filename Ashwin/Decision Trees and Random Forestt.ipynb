{
 "cells": [
  {
   "cell_type": "code",
   "execution_count": 38,
   "metadata": {},
   "outputs": [
    {
     "ename": "ModuleNotFoundError",
     "evalue": "No module named 'geopy'",
     "output_type": "error",
     "traceback": [
      "\u001b[0;31m---------------------------------------------------------------------------\u001b[0m",
      "\u001b[0;31mModuleNotFoundError\u001b[0m                       Traceback (most recent call last)",
      "\u001b[0;32m<ipython-input-38-cbac8df5bd1b>\u001b[0m in \u001b[0;36m<module>\u001b[0;34m\u001b[0m\n\u001b[1;32m     37\u001b[0m \u001b[0;34m\u001b[0m\u001b[0m\n\u001b[1;32m     38\u001b[0m \u001b[0;31m#geotools\u001b[0m\u001b[0;34m\u001b[0m\u001b[0;34m\u001b[0m\u001b[0;34m\u001b[0m\u001b[0m\n\u001b[0;32m---> 39\u001b[0;31m \u001b[0;32mimport\u001b[0m \u001b[0mgeopy\u001b[0m\u001b[0;34m\u001b[0m\u001b[0;34m\u001b[0m\u001b[0m\n\u001b[0m\u001b[1;32m     40\u001b[0m \u001b[0;32mimport\u001b[0m \u001b[0mgeocoder\u001b[0m\u001b[0;34m\u001b[0m\u001b[0;34m\u001b[0m\u001b[0m\n\u001b[1;32m     41\u001b[0m \u001b[0;32mimport\u001b[0m \u001b[0mgeopandas\u001b[0m \u001b[0;32mas\u001b[0m \u001b[0mgpd\u001b[0m\u001b[0;34m\u001b[0m\u001b[0;34m\u001b[0m\u001b[0m\n",
      "\u001b[0;31mModuleNotFoundError\u001b[0m: No module named 'geopy'"
     ]
    }
   ],
   "source": [
    "#data handling/modeling\n",
    "import pandas as pd\n",
    "import numpy as np\n",
    "from sklearn.linear_model import LinearRegression\n",
    "from sklearn.model_selection import train_test_split\n",
    "from sklearn import metrics\n",
    "from sklearn.tree import DecisionTreeRegressor\n",
    "from sklearn.tree import DecisionTreeClassifier\n",
    "from sklearn.ensemble import RandomForestClassifier\n",
    "from sklearn.ensemble import RandomForestRegressor\n",
    "import scipy.stats as stats\n",
    "%matplotlib inline\n",
    "import matplotlib.pyplot as plt\n",
    "import matplotlib\n",
    "from sklearn.cluster import KMeans\n",
    "import seaborn as sns; sns.set()\n",
    "import csv\n",
    "from random import seed\n",
    "from random import randrange\n",
    "from csv import reader\n",
    "from math import sqrt\n",
    "from sklearn.neighbors import KNeighborsClassifier\n",
    "from sklearn.utils import resample\n",
    "from imblearn.over_sampling import SMOTE\n",
    "from collections import Counter\n",
    "from sklearn.feature_selection import RFECV\n",
    "\n",
    "\n",
    "#svm\n",
    "from sklearn import datasets\n",
    "from sklearn import svm \n",
    "from sklearn.model_selection import train_test_split\n",
    "from sklearn.model_selection import cross_val_score\n",
    "from sklearn.model_selection import GridSearchCV\n",
    "from sklearn.metrics import auc, confusion_matrix, roc_curve\n",
    "\n",
    "\n",
    "#geotools\n",
    "import geopy\n",
    "import geocoder\n",
    "import geopandas as gpd\n",
    "from geopandas.tools import geocode\n",
    "from geopy.geocoders import Nominatim"
   ]
  },
  {
   "cell_type": "code",
   "execution_count": 19,
   "metadata": {},
   "outputs": [
    {
     "name": "stdout",
     "output_type": "stream",
     "text": [
      "CRASH DATE                        object\n",
      "CRASH TIME                        object\n",
      "BOROUGH                           object\n",
      "ZIP CODE                         float64\n",
      "LATITUDE                         float64\n",
      "LONGITUDE                        float64\n",
      "LOCATION                          object\n",
      "ON STREET NAME                    object\n",
      "CROSS STREET NAME                 object\n",
      "OFF STREET NAME                   object\n",
      "NUMBER OF PERSONS INJURED        float64\n",
      "NUMBER OF PERSONS KILLED         float64\n",
      "NUMBER OF PEDESTRIANS INJURED      int64\n",
      "NUMBER OF PEDESTRIANS KILLED       int64\n",
      "NUMBER OF CYCLIST INJURED          int64\n",
      "NUMBER OF CYCLIST KILLED           int64\n",
      "NUMBER OF MOTORIST INJURED         int64\n",
      "NUMBER OF MOTORIST KILLED          int64\n",
      "CONTRIBUTING FACTOR VEHICLE 1     object\n",
      "CONTRIBUTING FACTOR VEHICLE 2     object\n",
      "CONTRIBUTING FACTOR VEHICLE 3     object\n",
      "CONTRIBUTING FACTOR VEHICLE 4     object\n",
      "CONTRIBUTING FACTOR VEHICLE 5     object\n",
      "COLLISION_ID                       int64\n",
      "VEHICLE TYPE CODE 1               object\n",
      "VEHICLE TYPE CODE 2               object\n",
      "VEHICLE TYPE CODE 3               object\n",
      "VEHICLE TYPE CODE 4               object\n",
      "VEHICLE TYPE CODE 5               object\n",
      "Unnamed: 29                      float64\n",
      "Unnamed: 30                      float64\n",
      "Unnamed: 31                       object\n",
      "NUMTIME                          float64\n",
      "dtype: object\n",
      "(1048575, 33)\n"
     ]
    }
   ],
   "source": [
    "data = pd.read_csv(\"MVC.csv\")\n",
    "print(data.dtypes)\n",
    "print(data.shape)"
   ]
  },
  {
   "cell_type": "code",
   "execution_count": 20,
   "metadata": {},
   "outputs": [],
   "source": [
    "def cyclist_to_bin(x):\n",
    "    if x == 0:\n",
    "        return 0\n",
    "    else:\n",
    "        return 1\n",
    "def motorist_to_bin(x):\n",
    "    if x == 0:\n",
    "        return 0\n",
    "    else:\n",
    "        return 1\n",
    "def pedestrian_to_bin(x):\n",
    "    if x == 0:\n",
    "        return 0\n",
    "    else:\n",
    "        return 1\n",
    "def rush_to_bin(x):\n",
    "    if 7.5<x<9 or 16.5<x<19:\n",
    "        return 1\n",
    "    else:\n",
    "        return 0\n",
    "def persons_to_bin(x):\n",
    "    if x == 0:\n",
    "        return 0\n",
    "    else:\n",
    "        return 1\n",
    "def persons_to_class(x):\n",
    "    if x[2] == 1:\n",
    "        return 1\n",
    "    if x[3] == 1:\n",
    "        return 2\n",
    "    if x[4] == 1:\n",
    "        return 3\n",
    "    else:\n",
    "        return 0\n",
    "def multiple_personas(x):\n",
    "    return x[2]+x[3]+x[4]"
   ]
  },
  {
   "cell_type": "code",
   "execution_count": 21,
   "metadata": {},
   "outputs": [],
   "source": [
    "data[\"CYCLIST_AFFECTED\"] = data[\"NUMBER OF CYCLIST INJURED\"]+data[\"NUMBER OF CYCLIST KILLED\"]\n",
    "data[\"MOTORIST_AFFECTED\"] = data[\"NUMBER OF MOTORIST INJURED\"]+data[\"NUMBER OF MOTORIST KILLED\"]\n",
    "data[\"PEDESTRIAN_AFFECTED\"] = data[\"NUMBER OF PEDESTRIANS INJURED\"]+data[\"NUMBER OF PEDESTRIANS KILLED\"]\n",
    "data['PERSONS_AFFECTED'] = data['NUMBER OF PERSONS KILLED'] + data['NUMBER OF PERSONS INJURED']\n",
    "data['PERSONS_TF']= data['PERSONS_AFFECTED'].apply(persons_to_bin)\n",
    "data['MOTORIST_TF']= data[\"MOTORIST_AFFECTED\"].apply(motorist_to_bin)\n",
    "data['CYCLIST_TF']= data[\"CYCLIST_AFFECTED\"].apply(cyclist_to_bin)\n",
    "data['PEDESTRIAN_TF']= data[\"PEDESTRIAN_AFFECTED\"].apply(pedestrian_to_bin)\n",
    "data['RUSH_TF'] = data['NUMTIME'].apply(rush_to_bin)\n",
    "data['PERSONS_AFFECTED'] = data['NUMBER OF PERSONS KILLED'] + data['NUMBER OF PERSONS INJURED']\n"
   ]
  },
  {
   "cell_type": "code",
   "execution_count": 22,
   "metadata": {},
   "outputs": [
    {
     "name": "stdout",
     "output_type": "stream",
     "text": [
      "Human            704049\n",
      "Unspecified      268015\n",
      "Vehicular         48156\n",
      "Environmental     24940\n",
      "Name: CONTRIBUTING FACTOR VEHICLE 1, dtype: int64\n",
      "None\n"
     ]
    }
   ],
   "source": [
    "value_counts = data[\"CONTRIBUTING FACTOR VEHICLE 1\"].value_counts(ascending=True)\n",
    "remove = value_counts[value_counts <= 20].index\n",
    "data = data[~data['CONTRIBUTING FACTOR VEHICLE 1'].isin(remove)]\n",
    "\n",
    "data['CONTRIBUTING FACTOR VEHICLE 1'] = data['CONTRIBUTING FACTOR VEHICLE 1'].replace(['Driver Inattention/Distraction','Following Too Closely','Failure to Yield Right-of-Way','Backing Unsafely','Passing Too Closely','Unsafe Lane Changing','Passing or Lane Usage Improper','Turning Improperly','Traffic Control Disregarded','Driver Inexperience','Reaction to Uninvolved Vehicle','Unsafe Speed','Fatigued/Drowsy','Alcohol Involvement','Lost Consciousness','Aggressive Driving/Road Rage','Fell Asleep','Illnes','Drugs (illegal)','Drugs (Illegal)','Texting','Outside Car Distraction','Passenger Distraction','Prescription Medication','Failure to Keep Right','Illness','Other Electronic Device','Cell Phone (hand-Held)','Cell Phone (hands-free)','Eating or Drinking','Pedestrian/Bicyclist/Other Pedestrian Error/Confusion','Physical Disability','Reaction to Other Uninvolved Vehicle','Using On Board Navigation Device','Tinted Windows','Vehicle Vandalism','Cell Phone (hand-held)'],'Human')\n",
    "data['CONTRIBUTING FACTOR VEHICLE 1'] = data['CONTRIBUTING FACTOR VEHICLE 1'].replace(['Other Vehicular','Oversized Vehicle','Brakes Defective','Steering Failure','Tire Failure/Inadequate','Driverless/Runaway Vehicle','Accelerator Defective','Other Lighting Defects','Tow Hitch Defective','Headlights Defective','Windshield Inadequate'],'Vehicular')\n",
    "data['CONTRIBUTING FACTOR VEHICLE 1'] = data['CONTRIBUTING FACTOR VEHICLE 1'].replace(['Pavement Slippery','View Obstructed/Limited','Glare','Obstruction/Debris','Pavement Defective','Animals Action','Lane Marking Improper/Inadequate','Traffic Control Device Improper/Non-Working','Shoulders Defective/Improper'],'Environmental')\n",
    "data['CONTRIBUTING FACTOR VEHICLE 1'] = data['CONTRIBUTING FACTOR VEHICLE 1'].replace(['80'],'Unspecified')\n",
    "print(print(data['CONTRIBUTING FACTOR VEHICLE 1'].value_counts()))\n"
   ]
  },
  {
   "cell_type": "code",
   "execution_count": 23,
   "metadata": {},
   "outputs": [],
   "source": [
    "factor_dummy = data['CONTRIBUTING FACTOR VEHICLE 1'].str.get_dummies()\n",
    "data = pd.concat([data,factor_dummy],axis=1)\n",
    "borough_dummy = data.BOROUGH.str.get_dummies()\n",
    "data = pd.concat([data,borough_dummy],axis=1)"
   ]
  },
  {
   "cell_type": "code",
   "execution_count": 24,
   "metadata": {},
   "outputs": [
    {
     "name": "stdout",
     "output_type": "stream",
     "text": [
      "CRASH DATE                        object\n",
      "CRASH TIME                        object\n",
      "BOROUGH                           object\n",
      "ZIP CODE                         float64\n",
      "LATITUDE                         float64\n",
      "LONGITUDE                        float64\n",
      "LOCATION                          object\n",
      "ON STREET NAME                    object\n",
      "CROSS STREET NAME                 object\n",
      "OFF STREET NAME                   object\n",
      "NUMBER OF PERSONS INJURED        float64\n",
      "NUMBER OF PERSONS KILLED         float64\n",
      "NUMBER OF PEDESTRIANS INJURED      int64\n",
      "NUMBER OF PEDESTRIANS KILLED       int64\n",
      "NUMBER OF CYCLIST INJURED          int64\n",
      "NUMBER OF CYCLIST KILLED           int64\n",
      "NUMBER OF MOTORIST INJURED         int64\n",
      "NUMBER OF MOTORIST KILLED          int64\n",
      "CONTRIBUTING FACTOR VEHICLE 1     object\n",
      "CONTRIBUTING FACTOR VEHICLE 2     object\n",
      "CONTRIBUTING FACTOR VEHICLE 3     object\n",
      "CONTRIBUTING FACTOR VEHICLE 4     object\n",
      "CONTRIBUTING FACTOR VEHICLE 5     object\n",
      "COLLISION_ID                       int64\n",
      "VEHICLE TYPE CODE 1               object\n",
      "VEHICLE TYPE CODE 2               object\n",
      "VEHICLE TYPE CODE 3               object\n",
      "VEHICLE TYPE CODE 4               object\n",
      "VEHICLE TYPE CODE 5               object\n",
      "Unnamed: 29                      float64\n",
      "Unnamed: 30                      float64\n",
      "Unnamed: 31                       object\n",
      "NUMTIME                          float64\n",
      "CYCLIST_AFFECTED                   int64\n",
      "MOTORIST_AFFECTED                  int64\n",
      "PEDESTRIAN_AFFECTED                int64\n",
      "PERSONS_AFFECTED                 float64\n",
      "PERSONS_TF                         int64\n",
      "MOTORIST_TF                        int64\n",
      "CYCLIST_TF                         int64\n",
      "PEDESTRIAN_TF                      int64\n",
      "RUSH_TF                            int64\n",
      "Environmental                      int64\n",
      "Human                              int64\n",
      "Unspecified                        int64\n",
      "Vehicular                          int64\n",
      "BRONX                              int64\n",
      "BROOKLYN                           int64\n",
      "MANHATTAN                          int64\n",
      "QUEENS                             int64\n",
      "STATEN ISLAND                      int64\n",
      "dtype: object\n"
     ]
    }
   ],
   "source": [
    "print(data.dtypes)"
   ]
  },
  {
   "cell_type": "code",
   "execution_count": 30,
   "metadata": {},
   "outputs": [
    {
     "name": "stdout",
     "output_type": "stream",
     "text": [
      "NUMTIME          float64\n",
      "PERSONS_TF         int64\n",
      "MOTORIST_TF        int64\n",
      "CYCLIST_TF         int64\n",
      "PEDESTRIAN_TF      int64\n",
      "RUSH_TF            int64\n",
      "Environmental      int64\n",
      "Human              int64\n",
      "Unspecified        int64\n",
      "Vehicular          int64\n",
      "BRONX              int64\n",
      "BROOKLYN           int64\n",
      "MANHATTAN          int64\n",
      "QUEENS             int64\n",
      "STATEN ISLAND      int64\n",
      "dtype: object\n"
     ]
    }
   ],
   "source": [
    "data.drop(data.columns[1:2],axis=1,inplace=True)\n",
    "print(data.dtypes)"
   ]
  },
  {
   "cell_type": "markdown",
   "metadata": {},
   "source": [
    "There are 206887 normal cases and 1162 edge cases where there are multiple classes affected. These edge cases make up about .5% of the dataset. The dataset is already reduced to 19.84% of the original dataset"
   ]
  },
  {
   "cell_type": "code",
   "execution_count": 31,
   "metadata": {},
   "outputs": [
    {
     "data": {
      "text/plain": [
       "0.0    840770\n",
       "1.0    206611\n",
       "2.0      1160\n",
       "3.0         6\n",
       "Name: EDGE_CASES, dtype: int64"
      ]
     },
     "execution_count": 31,
     "metadata": {},
     "output_type": "execute_result"
    }
   ],
   "source": [
    "data['EDGE_CASES'] = data.apply(multiple_personas,axis = 1)\n",
    "data.EDGE_CASES.value_counts()"
   ]
  },
  {
   "cell_type": "code",
   "execution_count": 32,
   "metadata": {},
   "outputs": [
    {
     "name": "stdout",
     "output_type": "stream",
     "text": [
      "(206611, 16)\n",
      "NUMTIME          float64\n",
      "PERSONS_TF         int64\n",
      "MOTORIST_TF        int64\n",
      "CYCLIST_TF         int64\n",
      "PEDESTRIAN_TF      int64\n",
      "RUSH_TF            int64\n",
      "Environmental      int64\n",
      "Human              int64\n",
      "Unspecified        int64\n",
      "Vehicular          int64\n",
      "BRONX              int64\n",
      "BROOKLYN           int64\n",
      "MANHATTAN          int64\n",
      "QUEENS             int64\n",
      "STATEN ISLAND      int64\n",
      "EDGE_CASES       float64\n",
      "dtype: object\n"
     ]
    }
   ],
   "source": [
    "index = data[(data['EDGE_CASES'] != 1)].index\n",
    "data.drop(index,inplace=True)\n",
    "print(data.shape)\n",
    "print(data.dtypes)"
   ]
  },
  {
   "cell_type": "markdown",
   "metadata": {},
   "source": [
    "The breakdown of person classes is dominated by pedestrians (65.8%), followed by motorists (23.67%) and cyclists (10.5%)"
   ]
  },
  {
   "cell_type": "code",
   "execution_count": 33,
   "metadata": {},
   "outputs": [
    {
     "data": {
      "text/plain": [
       "1    136074\n",
       "3     48814\n",
       "2     21723\n",
       "Name: PERSONS_CLASS, dtype: int64"
      ]
     },
     "execution_count": 33,
     "metadata": {},
     "output_type": "execute_result"
    }
   ],
   "source": [
    "data['PERSONS_CLASS'] = data.apply(persons_to_class,axis=1)\n",
    "data.PERSONS_CLASS.value_counts()"
   ]
  },
  {
   "cell_type": "code",
   "execution_count": 47,
   "metadata": {
    "scrolled": true
   },
   "outputs": [
    {
     "data": {
      "text/plain": [
       "1    136074\n",
       "3     48814\n",
       "2     21723\n",
       "Name: PERSONS_CLASS, dtype: int64"
      ]
     },
     "execution_count": 47,
     "metadata": {},
     "output_type": "execute_result"
    }
   ],
   "source": [
    "pred = list(zip(data['NUMTIME'],data['MANHATTAN'],data['QUEENS'],data['BRONX'],data['STATEN ISLAND'],data['BROOKLYN'],data['Human'],data['Environmental'],data['Vehicular'],data['Unspecified']))\n",
    "resp = data['PERSONS_CLASS']\n",
    "resp.value_counts()"
   ]
  },
  {
   "cell_type": "code",
   "execution_count": 35,
   "metadata": {},
   "outputs": [
    {
     "name": "stdout",
     "output_type": "stream",
     "text": [
      "Resampled dataset shape Counter({3: 136074, 1: 136074, 2: 136074})\n"
     ]
    }
   ],
   "source": [
    "#SMOTE resampling!\n",
    "\n",
    "sm = SMOTE(random_state=42)\n",
    "x_res,y_res = sm.fit_resample(pred,resp)\n",
    "print('Resampled dataset shape %s' % Counter(y_res))"
   ]
  },
  {
   "cell_type": "code",
   "execution_count": 39,
   "metadata": {},
   "outputs": [
    {
     "name": "stdout",
     "output_type": "stream",
     "text": [
      "Fitting 3 folds for each of 80 candidates, totalling 240 fits\n"
     ]
    },
    {
     "name": "stderr",
     "output_type": "stream",
     "text": [
      "[Parallel(n_jobs=-1)]: Using backend LokyBackend with 12 concurrent workers.\n",
      "[Parallel(n_jobs=-1)]: Done  26 tasks      | elapsed:  3.4min\n",
      "/opt/anaconda3/lib/python3.7/site-packages/joblib/externals/loky/process_executor.py:706: UserWarning: A worker stopped while some jobs were given to the executor. This can be caused by a too short worker timeout or by a memory leak.\n",
      "  \"timeout or by a memory leak.\", UserWarning\n",
      "[Parallel(n_jobs=-1)]: Done 176 tasks      | elapsed: 517.6min\n",
      "[Parallel(n_jobs=-1)]: Done 240 out of 240 | elapsed: 552.1min finished\n"
     ]
    },
    {
     "data": {
      "text/html": [
       "<div>\n",
       "<style scoped>\n",
       "    .dataframe tbody tr th:only-of-type {\n",
       "        vertical-align: middle;\n",
       "    }\n",
       "\n",
       "    .dataframe tbody tr th {\n",
       "        vertical-align: top;\n",
       "    }\n",
       "\n",
       "    .dataframe thead th {\n",
       "        text-align: right;\n",
       "    }\n",
       "</style>\n",
       "<table border=\"1\" class=\"dataframe\">\n",
       "  <thead>\n",
       "    <tr style=\"text-align: right;\">\n",
       "      <th></th>\n",
       "      <th>param_criterion</th>\n",
       "      <th>param_max_depth</th>\n",
       "      <th>param_min_samples_leaf</th>\n",
       "      <th>mean_test_score</th>\n",
       "    </tr>\n",
       "  </thead>\n",
       "  <tbody>\n",
       "    <tr>\n",
       "      <td>0</td>\n",
       "      <td>gini</td>\n",
       "      <td>30</td>\n",
       "      <td>10</td>\n",
       "      <td>0.501208</td>\n",
       "    </tr>\n",
       "    <tr>\n",
       "      <td>1</td>\n",
       "      <td>entropy</td>\n",
       "      <td>30</td>\n",
       "      <td>10</td>\n",
       "      <td>0.499596</td>\n",
       "    </tr>\n",
       "    <tr>\n",
       "      <td>2</td>\n",
       "      <td>gini</td>\n",
       "      <td>20</td>\n",
       "      <td>10</td>\n",
       "      <td>0.494300</td>\n",
       "    </tr>\n",
       "    <tr>\n",
       "      <td>3</td>\n",
       "      <td>entropy</td>\n",
       "      <td>20</td>\n",
       "      <td>10</td>\n",
       "      <td>0.492965</td>\n",
       "    </tr>\n",
       "    <tr>\n",
       "      <td>4</td>\n",
       "      <td>gini</td>\n",
       "      <td>30</td>\n",
       "      <td>20</td>\n",
       "      <td>0.485456</td>\n",
       "    </tr>\n",
       "    <tr>\n",
       "      <td>5</td>\n",
       "      <td>entropy</td>\n",
       "      <td>30</td>\n",
       "      <td>20</td>\n",
       "      <td>0.485138</td>\n",
       "    </tr>\n",
       "    <tr>\n",
       "      <td>6</td>\n",
       "      <td>gini</td>\n",
       "      <td>20</td>\n",
       "      <td>20</td>\n",
       "      <td>0.482823</td>\n",
       "    </tr>\n",
       "    <tr>\n",
       "      <td>7</td>\n",
       "      <td>entropy</td>\n",
       "      <td>20</td>\n",
       "      <td>20</td>\n",
       "      <td>0.482789</td>\n",
       "    </tr>\n",
       "    <tr>\n",
       "      <td>8</td>\n",
       "      <td>gini</td>\n",
       "      <td>30</td>\n",
       "      <td>30</td>\n",
       "      <td>0.479293</td>\n",
       "    </tr>\n",
       "    <tr>\n",
       "      <td>9</td>\n",
       "      <td>entropy</td>\n",
       "      <td>30</td>\n",
       "      <td>30</td>\n",
       "      <td>0.478085</td>\n",
       "    </tr>\n",
       "  </tbody>\n",
       "</table>\n",
       "</div>"
      ],
      "text/plain": [
       "  param_criterion param_max_depth param_min_samples_leaf  mean_test_score\n",
       "0            gini              30                     10         0.501208\n",
       "1         entropy              30                     10         0.499596\n",
       "2            gini              20                     10         0.494300\n",
       "3         entropy              20                     10         0.492965\n",
       "4            gini              30                     20         0.485456\n",
       "5         entropy              30                     20         0.485138\n",
       "6            gini              20                     20         0.482823\n",
       "7         entropy              20                     20         0.482789\n",
       "8            gini              30                     30         0.479293\n",
       "9         entropy              30                     30         0.478085"
      ]
     },
     "execution_count": 39,
     "metadata": {},
     "output_type": "execute_result"
    }
   ],
   "source": [
    "X_feat = x_res\n",
    "y = y_res\n",
    "X_feat_train,X_feat_test, y_feat_train,y_feat_test = train_test_split(X_feat,y,test_size=0.2)\n",
    "\n",
    "dtc = RandomForestClassifier()\n",
    "grid={'max_depth':[1,2,3,4,5,10,20,30],\n",
    "        'criterion':['gini','entropy'],\n",
    "        'min_samples_leaf':[10,20,30,50,60]}\n",
    "\n",
    "gs = GridSearchCV(dtc,grid,cv=3,verbose=True,return_train_score=False,n_jobs=-1)\n",
    "gs.fit(X_feat,y)\n",
    "\n",
    "scores = pd.DataFrame(gs.cv_results_).filter(regex='param_+|mean_test_score'\n",
    "                                            ).sort_values('mean_test_score',\n",
    "                                                          ascending=False).reset_index().drop(['index'],axis=1)\n",
    "scores.head(10)"
   ]
  },
  {
   "cell_type": "code",
   "execution_count": 44,
   "metadata": {},
   "outputs": [
    {
     "name": "stdout",
     "output_type": "stream",
     "text": [
      "Classification Report:\n",
      "               precision    recall  f1-score   support\n",
      "\n",
      "           1       0.49      0.57      0.53     27099\n",
      "           2       0.51      0.52      0.52     27141\n",
      "           3       0.52      0.43      0.47     27405\n",
      "\n",
      "    accuracy                           0.51     81645\n",
      "   macro avg       0.51      0.51      0.50     81645\n",
      "weighted avg       0.51      0.51      0.50     81645\n",
      "\n",
      "Null accuracy on the test set:  2.0037479331251147\n",
      "Sensitivity/Recall (TPR):  0.5056402719088737\n",
      "Precision (PPV):  0.5056402719088737\n",
      "Accuracy: 0.5056402719088737\n"
     ]
    },
    {
     "data": {
      "text/plain": [
       "array([[15378,  5634,  6087],\n",
       "       [ 8132, 14025,  4984],\n",
       "       [ 7868,  7657, 11880]])"
      ]
     },
     "execution_count": 44,
     "metadata": {},
     "output_type": "execute_result"
    }
   ],
   "source": [
    "X_feat = x_res\n",
    "y = y_res\n",
    "X_train, X_test, y_train, y_test = train_test_split(X_feat, y, test_size=0.2)\n",
    "\n",
    "\n",
    "t = RandomForestClassifier(criterion='gini',max_depth=30,min_samples_leaf=10)\n",
    "\n",
    "t.fit(X_train,y_train)\n",
    "y_test_pred = t.predict(X_test)\n",
    "\n",
    "\n",
    "print(\"Classification Report:\\n\", metrics.classification_report(y_test,y_test_pred))\n",
    "print(\"Null accuracy on the test set: \",y_test.mean())\n",
    "print(\"Sensitivity/Recall (TPR): \",metrics.recall_score(y_test,y_test_pred,average='micro'))\n",
    "print(\"Precision (PPV): \", metrics.precision_score(y_test,y_test_pred,average='micro'))\n",
    "print(\"Accuracy:\",metrics.accuracy_score(y_test, y_test_pred))\n",
    "cm = metrics.confusion_matrix(y_test, y_test_pred)\n",
    "cm"
   ]
  },
  {
   "cell_type": "code",
   "execution_count": 41,
   "metadata": {},
   "outputs": [
    {
     "data": {
      "text/plain": [
       "[Text(30.5, 0.5, 'Actual Class'),\n",
       " Text(0.5, 30.5, 'Predicted Class'),\n",
       " Text(0.5, 1, 'Confusion Matrix')]"
      ]
     },
     "execution_count": 41,
     "metadata": {},
     "output_type": "execute_result"
    },
    {
     "data": {
      "image/png": "[encoded data removed]",
      "text/plain": [
       "<Figure size 432x432 with 1 Axes>"
      ]
     },
     "metadata": {},
     "output_type": "display_data"
    }
   ],
   "source": [
    "X_train, X_test, y_train, y_test = train_test_split(x_res,y_res, test_size=0.3)\n",
    "t.fit(X_train,y_train)\n",
    "\n",
    "test_cf = pd.DataFrame(confusion_matrix(y_test,t.predict(X_test)))\n",
    "\n",
    "fig, ax = plt.subplots(figsize=(6,6))\n",
    "ax = sns.heatmap(test_cf,annot=True,fmt='d',cmap='Blues',cbar=False)\n",
    "ax.set(xlabel='Predicted Class',ylabel='Actual Class',title='Confusion Matrix')"
   ]
  },
  {
   "cell_type": "code",
   "execution_count": 42,
   "metadata": {},
   "outputs": [
    {
     "data": {
      "text/plain": [
       "[Text(30.5, 0.5, 'Actual Class'),\n",
       " Text(0.5, 30.5, 'Predicted Class'),\n",
       " Text(0.5, 1, 'Normalized Confusion Matrix')]"
      ]
     },
     "execution_count": 42,
     "metadata": {},
     "output_type": "execute_result"
    },
    {
     "data": {
      "image/png": "[encoded data removed]",
      "text/plain": [
       "<Figure size 432x432 with 1 Axes>"
      ]
     },
     "metadata": {},
     "output_type": "display_data"
    }
   ],
   "source": [
    "test_cf = confusion_matrix(y_test,t.predict(X_test))\n",
    "test_cf = test_cf.astype('float') / test_cf.sum(axis=1)[:, np.newaxis]\n",
    "test_cf = pd.DataFrame((test_cf))\n",
    "                           \n",
    "fig, ax = plt.subplots(figsize=(6,6))\n",
    "ax = sns.heatmap(test_cf,annot=True,cmap='Blues',cbar=False,fmt='.0%')\n",
    "ax.set(xlabel='Predicted Class',ylabel='Actual Class',title='Normalized Confusion Matrix')"
   ]
  },
  {
   "cell_type": "code",
   "execution_count": 46,
   "metadata": {},
   "outputs": [
    {
     "data": {
      "text/plain": [
       "0    159421\n",
       "1     47190\n",
       "Name: RUSH_TF, dtype: int64"
      ]
     },
     "execution_count": 46,
     "metadata": {},
     "output_type": "execute_result"
    }
   ],
   "source": [
    "pred2 = list(zip(data['MANHATTAN'],data['QUEENS'],data['BRONX'],data['STATEN ISLAND'],data['BROOKLYN'],data['Human'],data['Environmental'],data['Vehicular'],data['Unspecified']))\n",
    "resp2 = data['RUSH_TF']\n",
    "resp2.value_counts()"
   ]
  },
  {
   "cell_type": "code",
   "execution_count": 49,
   "metadata": {},
   "outputs": [
    {
     "name": "stdout",
     "output_type": "stream",
     "text": [
      "Resampled dataset shape Counter({0: 159421, 1: 159421})\n"
     ]
    }
   ],
   "source": [
    "#SMOTE resampling!\n",
    "\n",
    "sm = SMOTE(random_state=42)\n",
    "x_res2,y_res2 = sm.fit_resample(pred2,resp2)\n",
    "print('Resampled dataset shape %s' % Counter(y_res2))"
   ]
  },
  {
   "cell_type": "code",
   "execution_count": 55,
   "metadata": {},
   "outputs": [
    {
     "name": "stdout",
     "output_type": "stream",
     "text": [
      "Fitting 3 folds for each of 80 candidates, totalling 240 fits\n"
     ]
    },
    {
     "name": "stderr",
     "output_type": "stream",
     "text": [
      "[Parallel(n_jobs=-1)]: Using backend LokyBackend with 12 concurrent workers.\n",
      "[Parallel(n_jobs=-1)]: Done  26 tasks      | elapsed:  2.2min\n",
      "[Parallel(n_jobs=-1)]: Done 176 tasks      | elapsed: 15.7min\n",
      "/opt/anaconda3/lib/python3.7/site-packages/joblib/externals/loky/process_executor.py:706: UserWarning: A worker stopped while some jobs were given to the executor. This can be caused by a too short worker timeout or by a memory leak.\n",
      "  \"timeout or by a memory leak.\", UserWarning\n",
      "[Parallel(n_jobs=-1)]: Done 240 out of 240 | elapsed: 21.7min finished\n"
     ]
    },
    {
     "data": {
      "text/html": [
       "<div>\n",
       "<style scoped>\n",
       "    .dataframe tbody tr th:only-of-type {\n",
       "        vertical-align: middle;\n",
       "    }\n",
       "\n",
       "    .dataframe tbody tr th {\n",
       "        vertical-align: top;\n",
       "    }\n",
       "\n",
       "    .dataframe thead th {\n",
       "        text-align: right;\n",
       "    }\n",
       "</style>\n",
       "<table border=\"1\" class=\"dataframe\">\n",
       "  <thead>\n",
       "    <tr style=\"text-align: right;\">\n",
       "      <th></th>\n",
       "      <th>param_criterion</th>\n",
       "      <th>param_max_depth</th>\n",
       "      <th>param_min_samples_leaf</th>\n",
       "      <th>mean_test_score</th>\n",
       "    </tr>\n",
       "  </thead>\n",
       "  <tbody>\n",
       "    <tr>\n",
       "      <td>0</td>\n",
       "      <td>entropy</td>\n",
       "      <td>5</td>\n",
       "      <td>50</td>\n",
       "      <td>0.506172</td>\n",
       "    </tr>\n",
       "    <tr>\n",
       "      <td>1</td>\n",
       "      <td>entropy</td>\n",
       "      <td>5</td>\n",
       "      <td>20</td>\n",
       "      <td>0.505852</td>\n",
       "    </tr>\n",
       "    <tr>\n",
       "      <td>2</td>\n",
       "      <td>gini</td>\n",
       "      <td>5</td>\n",
       "      <td>60</td>\n",
       "      <td>0.505808</td>\n",
       "    </tr>\n",
       "    <tr>\n",
       "      <td>3</td>\n",
       "      <td>entropy</td>\n",
       "      <td>5</td>\n",
       "      <td>60</td>\n",
       "      <td>0.505576</td>\n",
       "    </tr>\n",
       "    <tr>\n",
       "      <td>4</td>\n",
       "      <td>entropy</td>\n",
       "      <td>3</td>\n",
       "      <td>50</td>\n",
       "      <td>0.505470</td>\n",
       "    </tr>\n",
       "    <tr>\n",
       "      <td>5</td>\n",
       "      <td>gini</td>\n",
       "      <td>30</td>\n",
       "      <td>20</td>\n",
       "      <td>0.505197</td>\n",
       "    </tr>\n",
       "    <tr>\n",
       "      <td>6</td>\n",
       "      <td>gini</td>\n",
       "      <td>30</td>\n",
       "      <td>10</td>\n",
       "      <td>0.505194</td>\n",
       "    </tr>\n",
       "    <tr>\n",
       "      <td>7</td>\n",
       "      <td>entropy</td>\n",
       "      <td>10</td>\n",
       "      <td>20</td>\n",
       "      <td>0.505194</td>\n",
       "    </tr>\n",
       "    <tr>\n",
       "      <td>8</td>\n",
       "      <td>gini</td>\n",
       "      <td>20</td>\n",
       "      <td>50</td>\n",
       "      <td>0.505175</td>\n",
       "    </tr>\n",
       "    <tr>\n",
       "      <td>9</td>\n",
       "      <td>entropy</td>\n",
       "      <td>20</td>\n",
       "      <td>30</td>\n",
       "      <td>0.505166</td>\n",
       "    </tr>\n",
       "  </tbody>\n",
       "</table>\n",
       "</div>"
      ],
      "text/plain": [
       "  param_criterion param_max_depth param_min_samples_leaf  mean_test_score\n",
       "0         entropy               5                     50         0.506172\n",
       "1         entropy               5                     20         0.505852\n",
       "2            gini               5                     60         0.505808\n",
       "3         entropy               5                     60         0.505576\n",
       "4         entropy               3                     50         0.505470\n",
       "5            gini              30                     20         0.505197\n",
       "6            gini              30                     10         0.505194\n",
       "7         entropy              10                     20         0.505194\n",
       "8            gini              20                     50         0.505175\n",
       "9         entropy              20                     30         0.505166"
      ]
     },
     "execution_count": 55,
     "metadata": {},
     "output_type": "execute_result"
    }
   ],
   "source": [
    "X_feat = x_res2\n",
    "y = y_res2\n",
    "X_feat_train,X_feat_test, y_feat_train,y_feat_test = train_test_split(X_feat,y,test_size=0.2)\n",
    "\n",
    "dtc = RandomForestClassifier()\n",
    "grid={'max_depth':[1,2,3,4,5,10,20,30],\n",
    "        'criterion':['gini','entropy'],\n",
    "        'min_samples_leaf':[10,20,30,50,60]}\n",
    "\n",
    "gs = GridSearchCV(dtc,grid,cv=3,verbose=True,return_train_score=False,n_jobs=-1)\n",
    "gs.fit(X_feat,y)\n",
    "\n",
    "scores = pd.DataFrame(gs.cv_results_).filter(regex='param_+|mean_test_score'\n",
    "                                            ).sort_values('mean_test_score',\n",
    "                                                          ascending=False).reset_index().drop(['index'],axis=1)\n",
    "scores.head(10)"
   ]
  },
  {
   "cell_type": "code",
   "execution_count": 56,
   "metadata": {},
   "outputs": [
    {
     "name": "stdout",
     "output_type": "stream",
     "text": [
      "Classification Report:\n",
      "               precision    recall  f1-score   support\n",
      "\n",
      "           0       0.52      0.49      0.51     31956\n",
      "           1       0.52      0.55      0.53     31813\n",
      "\n",
      "    accuracy                           0.52     63769\n",
      "   macro avg       0.52      0.52      0.52     63769\n",
      "weighted avg       0.52      0.52      0.52     63769\n",
      "\n",
      "Null accuracy on the test set:  0.49887876554438676\n",
      "Sensitivity/Recall (TPR):  0.5189041697376469\n",
      "Precision (PPV):  0.5189041697376469\n",
      "Accuracy: 0.5189041697376469\n"
     ]
    },
    {
     "data": {
      "text/plain": [
       "array([[15742, 16214],\n",
       "       [14465, 17348]])"
      ]
     },
     "execution_count": 56,
     "metadata": {},
     "output_type": "execute_result"
    }
   ],
   "source": [
    "X_feat = x_res2\n",
    "y = y_res2\n",
    "X_train, X_test, y_train, y_test = train_test_split(X_feat, y, test_size=0.2)\n",
    "\n",
    "\n",
    "t2 = RandomForestClassifier(criterion='entropy',max_depth=5,min_samples_leaf=50)\n",
    "\n",
    "t2.fit(X_train,y_train)\n",
    "y_test_pred = t2.predict(X_test)\n",
    "\n",
    "\n",
    "print(\"Classification Report:\\n\", metrics.classification_report(y_test,y_test_pred))\n",
    "print(\"Null accuracy on the test set: \",y_test.mean())\n",
    "print(\"Sensitivity/Recall (TPR): \",metrics.recall_score(y_test,y_test_pred,average='micro'))\n",
    "print(\"Precision (PPV): \", metrics.precision_score(y_test,y_test_pred,average='micro'))\n",
    "print(\"Accuracy:\",metrics.accuracy_score(y_test, y_test_pred))\n",
    "cm = metrics.confusion_matrix(y_test, y_test_pred)\n",
    "cm"
   ]
  },
  {
   "cell_type": "code",
   "execution_count": 57,
   "metadata": {},
   "outputs": [
    {
     "data": {
      "text/plain": [
       "[Text(30.5, 0.5, 'Actual Class'),\n",
       " Text(0.5, 30.5, 'Predicted Class'),\n",
       " Text(0.5, 1, 'Confusion Matrix')]"
      ]
     },
     "execution_count": 57,
     "metadata": {},
     "output_type": "execute_result"
    },
    {
     "data": {
      "image/png": "[encoded data removed]",
      "text/plain": [
       "<Figure size 432x432 with 1 Axes>"
      ]
     },
     "metadata": {},
     "output_type": "display_data"
    }
   ],
   "source": [
    "X_train, X_test, y_train, y_test = train_test_split(x_res2,y_res2, test_size=0.3)\n",
    "t2.fit(X_train,y_train)\n",
    "\n",
    "test_cf = pd.DataFrame(confusion_matrix(y_test,t2.predict(X_test)))\n",
    "\n",
    "fig, ax = plt.subplots(figsize=(6,6))\n",
    "ax = sns.heatmap(test_cf,annot=True,fmt='d',cmap='Blues',cbar=False)\n",
    "ax.set(xlabel='Predicted Class',ylabel='Actual Class',title='Confusion Matrix')"
   ]
  },
  {
   "cell_type": "code",
   "execution_count": 58,
   "metadata": {},
   "outputs": [
    {
     "data": {
      "text/plain": [
       "[Text(30.5, 0.5, 'Actual Class'),\n",
       " Text(0.5, 30.5, 'Predicted Class'),\n",
       " Text(0.5, 1, 'Normalized Confusion Matrix')]"
      ]
     },
     "execution_count": 58,
     "metadata": {},
     "output_type": "execute_result"
    },
    {
     "data": {
      "image/png": "[encoded data removed]",
      "text/plain": [
       "<Figure size 432x432 with 1 Axes>"
      ]
     },
     "metadata": {},
     "output_type": "display_data"
    }
   ],
   "source": [
    "test_cf = confusion_matrix(y_test,t2.predict(X_test))\n",
    "test_cf = test_cf.astype('float') / test_cf.sum(axis=1)[:, np.newaxis]\n",
    "test_cf = pd.DataFrame((test_cf))\n",
    "                           \n",
    "fig, ax = plt.subplots(figsize=(6,6))\n",
    "ax = sns.heatmap(test_cf,annot=True,cmap='Blues',cbar=False,fmt='.0%')\n",
    "ax.set(xlabel='Predicted Class',ylabel='Actual Class',title='Normalized Confusion Matrix')"
   ]
  },
  {
   "cell_type": "code",
   "execution_count": null,
   "metadata": {},
   "outputs": [],
   "source": []
  }
 ],
 "metadata": {
  "kernelspec": {
   "display_name": "Python 3",
   "language": "python",
   "name": "python3"
  },
  "language_info": {
   "codemirror_mode": {
    "name": "ipython",
    "version": 3
   },
   "file_extension": ".py",
   "mimetype": "text/x-python",
   "name": "python",
   "nbconvert_exporter": "python",
   "pygments_lexer": "ipython3",
   "version": "3.7.4"
  }
 },
 "nbformat": 4,
 "nbformat_minor": 4
}
