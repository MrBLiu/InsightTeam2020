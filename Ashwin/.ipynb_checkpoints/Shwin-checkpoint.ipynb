{
 "cells": [
  {
   "cell_type": "code",
   "execution_count": 1,
   "metadata": {},
   "outputs": [],
   "source": [
    "import pandas as pd\n",
    "import numpy as np\n",
    "from sklearn.linear_model import LinearRegression, LogisticRegression\n",
    "from sklearn.linear_model import Lasso\n",
    "from sklearn.model_selection import train_test_split\n",
    "from sklearn import metrics\n",
    "import scipy.stats\n",
    "import matplotlib.pyplot as plt\n",
    "import seaborn as sns\n",
    "%matplotlib inline\n",
    "sns.set()\n",
    "from sklearn.preprocessing import Imputer"
   ]
  },
  {
   "cell_type": "code",
   "execution_count": 2,
   "metadata": {},
   "outputs": [
    {
     "name": "stdout",
     "output_type": "stream",
     "text": [
      "Index(['CRASH DATE', 'CRASH TIME', 'BOROUGH', 'ZIP CODE', 'LATITUDE',\n",
      "       'LONGITUDE', 'LOCATION', 'ON STREET NAME', 'CROSS STREET NAME',\n",
      "       'OFF STREET NAME', 'NUMBER OF PERSONS INJURED',\n",
      "       'NUMBER OF PERSONS KILLED', 'NUMBER OF PEDESTRIANS INJURED',\n",
      "       'NUMBER OF PEDESTRIANS KILLED', 'NUMBER OF CYCLIST INJURED',\n",
      "       'NUMBER OF CYCLIST KILLED', 'NUMBER OF MOTORIST INJURED',\n",
      "       'NUMBER OF MOTORIST KILLED', 'CONTRIBUTING FACTOR VEHICLE 1',\n",
      "       'CONTRIBUTING FACTOR VEHICLE 2', 'CONTRIBUTING FACTOR VEHICLE 3',\n",
      "       'CONTRIBUTING FACTOR VEHICLE 4', 'CONTRIBUTING FACTOR VEHICLE 5',\n",
      "       'COLLISION_ID', 'VEHICLE TYPE CODE 1', 'VEHICLE TYPE CODE 2',\n",
      "       'VEHICLE TYPE CODE 3', 'VEHICLE TYPE CODE 4', 'VEHICLE TYPE CODE 5',\n",
      "       'Unnamed: 29', 'Unnamed: 30', 'Unnamed: 31', 'NUMTIME'],\n",
      "      dtype='object')\n"
     ]
    }
   ],
   "source": [
    "data = pd.read_csv(\"MVC.csv\")\n",
    "print(data.columns)"
   ]
  },
  {
   "cell_type": "code",
   "execution_count": 3,
   "metadata": {},
   "outputs": [],
   "source": [
    "feature_cols = data.columns[4]\n",
    "resp_col = data.columns[11]\n",
    "x = data[feature_cols].copy()\n",
    "y = data[resp_col].copy()"
   ]
  },
  {
   "cell_type": "code",
   "execution_count": 4,
   "metadata": {},
   "outputs": [
    {
     "name": "stdout",
     "output_type": "stream",
     "text": [
      "(1048575, 1)\n",
      "(1048575, 1)\n"
     ]
    }
   ],
   "source": [
    "x=x>0\n",
    "y=y>0\n",
    "x = x.dropna()\n",
    "y = y.dropna()\n",
    "pred = np.array(x)\n",
    "response = np.array(y)\n",
    "pred = pred.reshape(-1,1)\n",
    "response = response.reshape(-1,1)\n",
    "print(pred.shape)\n",
    "print(response.shape)"
   ]
  },
  {
   "cell_type": "code",
   "execution_count": 5,
   "metadata": {},
   "outputs": [
    {
     "name": "stdout",
     "output_type": "stream",
     "text": [
      "The slope is:  [[-0.00016556]]\n",
      "The y-intercept is [0.0011991]\n",
      "2.3397311851303115e-06\n",
      "0.001048891477098241\n"
     ]
    }
   ],
   "source": [
    "linreg = LinearRegression()\n",
    "linreg.fit(pred,response)\n",
    "end = linreg.predict(pred)\n",
    "print(\"The slope is: \",linreg.coef_)\n",
    "print(\"The y-intercept is\",linreg.intercept_)\n",
    "print(metrics.r2_score(y,end))\n",
    "print(metrics.mean_squared_error(y, end))"
   ]
  },
  {
   "cell_type": "code",
   "execution_count": 6,
   "metadata": {},
   "outputs": [],
   "source": [
    "def borough(x):\n",
    "    if x==\"QUEENS\":\n",
    "        return 1\n",
    "    if x=='BROOKLYN':\n",
    "        return 2\n",
    "    if x=='MANHATTAN':\n",
    "        return 3\n",
    "    if x=='BRONX':\n",
    "        return 4\n",
    "    if x=='STATEN ISLAND':\n",
    "        return 5"
   ]
  },
  {
   "cell_type": "code",
   "execution_count": 7,
   "metadata": {},
   "outputs": [
    {
     "name": "stdout",
     "output_type": "stream",
     "text": [
      "<function borough at 0x1a3859b710>\n"
     ]
    }
   ],
   "source": [
    "data['BOROUGH']=data['BOROUGH'].apply(borough)\n",
    "print(borough)"
   ]
  },
  {
   "cell_type": "code",
   "execution_count": 8,
   "metadata": {},
   "outputs": [
    {
     "name": "stderr",
     "output_type": "stream",
     "text": [
      "/opt/anaconda3/lib/python3.7/site-packages/sklearn/utils/deprecation.py:66: DeprecationWarning: Class Imputer is deprecated; Imputer was deprecated in version 0.20 and will be removed in 0.22. Import impute.SimpleImputer from sklearn instead.\n",
      "  warnings.warn(msg, category=DeprecationWarning)\n"
     ]
    },
    {
     "name": "stdout",
     "output_type": "stream",
     "text": [
      "CRASH DATE                       False\n",
      "CRASH TIME                       False\n",
      "BOROUGH                          False\n",
      "ZIP CODE                          True\n",
      "LATITUDE                          True\n",
      "LONGITUDE                         True\n",
      "LOCATION                          True\n",
      "ON STREET NAME                    True\n",
      "CROSS STREET NAME                 True\n",
      "OFF STREET NAME                   True\n",
      "NUMBER OF PERSONS INJURED        False\n",
      "NUMBER OF PERSONS KILLED          True\n",
      "NUMBER OF PEDESTRIANS INJURED    False\n",
      "NUMBER OF PEDESTRIANS KILLED     False\n",
      "NUMBER OF CYCLIST INJURED        False\n",
      "NUMBER OF CYCLIST KILLED         False\n",
      "NUMBER OF MOTORIST INJURED       False\n",
      "NUMBER OF MOTORIST KILLED        False\n",
      "CONTRIBUTING FACTOR VEHICLE 1     True\n",
      "CONTRIBUTING FACTOR VEHICLE 2     True\n",
      "CONTRIBUTING FACTOR VEHICLE 3     True\n",
      "CONTRIBUTING FACTOR VEHICLE 4     True\n",
      "CONTRIBUTING FACTOR VEHICLE 5     True\n",
      "COLLISION_ID                     False\n",
      "VEHICLE TYPE CODE 1               True\n",
      "VEHICLE TYPE CODE 2               True\n",
      "VEHICLE TYPE CODE 3               True\n",
      "VEHICLE TYPE CODE 4               True\n",
      "VEHICLE TYPE CODE 5               True\n",
      "Unnamed: 29                       True\n",
      "Unnamed: 30                       True\n",
      "Unnamed: 31                      False\n",
      "NUMTIME                          False\n",
      "dtype: bool\n"
     ]
    }
   ],
   "source": [
    "valuablecols=['NUMTIME','BOROUGH']\n",
    "def replace_missing_value(data, valuablecols):\n",
    "\n",
    "    imputer = Imputer(strategy=\"median\")\n",
    "    df_num = data[valuablecols]\n",
    "    imputer.fit(df_num)\n",
    "    X = imputer.transform(df_num)\n",
    "    res_def = pd.DataFrame(X, columns=df_num.columns)\n",
    "    return res_def\n",
    "data[\"NUMTIME\"] = replace_missing_value(data,[\"NUMTIME\"])\n",
    "data = data.dropna(how='any', subset=['BOROUGH','NUMTIME','NUMBER OF PERSONS INJURED'])\n",
    "print(data.isnull().any())"
   ]
  },
  {
   "cell_type": "code",
   "execution_count": 9,
   "metadata": {},
   "outputs": [],
   "source": [
    "def injured_to_binary(x):\n",
    "        if x>= 1:\n",
    "            return 1\n",
    "        else:\n",
    "            return 0\n",
    "data['affected']=data['NUMBER OF PERSONS INJURED']+data['NUMBER OF PERSONS KILLED']\n",
    "data['affected'] = data['affected'].apply(injured_to_binary)\n"
   ]
  },
  {
   "cell_type": "code",
   "execution_count": 11,
   "metadata": {},
   "outputs": [
    {
     "name": "stderr",
     "output_type": "stream",
     "text": [
      "/opt/anaconda3/lib/python3.7/site-packages/sklearn/linear_model/logistic.py:432: FutureWarning: Default solver will be changed to 'lbfgs' in 0.22. Specify a solver to silence this warning.\n",
      "  FutureWarning)\n"
     ]
    },
    {
     "name": "stdout",
     "output_type": "stream",
     "text": [
      "The slope is:  [[ 0.01370695 -0.03968007]]\n",
      "The y-intercept is [-1.53431646]\n",
      "-0.23732710189587514\n"
     ]
    }
   ],
   "source": [
    "logreg = LogisticRegression(C=1e9)\n",
    "valuablecols=['NUMTIME','BOROUGH']\n",
    "X = data[valuablecols]\n",
    "y = data['affected']\n",
    "pred = np.array(X)\n",
    "response = np.array(y)\n",
    "pred = pred.reshape(-1,1)\n",
    "response = response.reshape(-1,1)\n",
    "logreg.fit(X, y)\n",
    "outcome_pred_class_log = logreg.predict(X)\n",
    "print(\"The slope is: \",logreg.coef_)\n",
    "print(\"The y-intercept is\",logreg.intercept_)\n",
    "print(metrics.r2_score(y,outcome_pred_class_log))"
   ]
  },
  {
   "cell_type": "code",
   "execution_count": 12,
   "metadata": {},
   "outputs": [],
   "source": [
    "feature_cols = data.columns[10]\n",
    "resp_col = data.columns[11]\n",
    "x = data[feature_cols].copy()\n",
    "y = data[resp_col].copy()"
   ]
  },
  {
   "cell_type": "code",
   "execution_count": 13,
   "metadata": {},
   "outputs": [
    {
     "name": "stdout",
     "output_type": "stream",
     "text": [
      "(687819, 1)\n",
      "(687819, 1)\n"
     ]
    }
   ],
   "source": [
    "x=x>0\n",
    "y=y>0\n",
    "x = x.dropna()\n",
    "y = y.dropna()\n",
    "pred = np.array(x)\n",
    "response = np.array(y)\n",
    "pred = pred.reshape(-1,1)\n",
    "response = response.reshape(-1,1)\n",
    "print(pred.shape)\n",
    "print(response.shape)"
   ]
  },
  {
   "cell_type": "code",
   "execution_count": 14,
   "metadata": {},
   "outputs": [
    {
     "name": "stdout",
     "output_type": "stream",
     "text": [
      "The slope is:  [[0.00014008]]\n",
      "The y-intercept is [0.00090226]\n",
      "3.2677256224245e-06\n",
      "0.0009281573609632766\n"
     ]
    }
   ],
   "source": [
    "linreg = LinearRegression()\n",
    "linreg.fit(pred,response)\n",
    "end = linreg.predict(pred)\n",
    "print(\"The slope is: \",linreg.coef_)\n",
    "print(\"The y-intercept is\",linreg.intercept_)\n",
    "print(metrics.r2_score(y,end))\n",
    "print(metrics.mean_squared_error(y, end))"
   ]
  },
  {
   "cell_type": "code",
   "execution_count": 15,
   "metadata": {},
   "outputs": [
    {
     "name": "stdout",
     "output_type": "stream",
     "text": [
      "Unspecified                       196771\n",
      "Driver Inattention/Distraction    154867\n",
      "Failure to Yield Right-of-Way      49617\n",
      "Backing Unsafely                   36709\n",
      "Following Too Closely              36607\n",
      "                                   ...  \n",
      "Windshield Inadequate                 20\n",
      "Texting                               17\n",
      "Cell Phone (hand-held)                17\n",
      "Listening/Using Headphones            10\n",
      "1                                      8\n",
      "Name: CONTRIBUTING FACTOR VEHICLE 1, Length: 61, dtype: int64\n",
      "Unspecified                                              196771\n",
      "Driver Inattention/Distraction                           154867\n",
      "Failure to Yield Right-of-Way                             49617\n",
      "Backing Unsafely                                          36709\n",
      "Following Too Closely                                     36607\n",
      "Passing Too Closely                                       26692\n",
      "Passing or Lane Usage Improper                            24910\n",
      "Other Vehicular                                           22947\n",
      "Turning Improperly                                        18109\n",
      "Unsafe Lane Changing                                      14957\n",
      "Traffic Control Disregarded                               12158\n",
      "Driver Inexperience                                       11240\n",
      "Unsafe Speed                                               7608\n",
      "Alcohol Involvement                                        7287\n",
      "Reaction to Uninvolved Vehicle                             6840\n",
      "Fatigued/Drowsy                                            6243\n",
      "View Obstructed/Limited                                    5503\n",
      "Oversized Vehicle                                          5144\n",
      "Pavement Slippery                                          4988\n",
      "Lost Consciousness                                         4027\n",
      "Pedestrian/Bicyclist/Other Pedestrian Error/Confusion      4012\n",
      "Passenger Distraction                                      3009\n",
      "Aggressive Driving/Road Rage                               2925\n",
      "Prescription Medication                                    2844\n",
      "Outside Car Distraction                                    2405\n",
      "Brakes Defective                                           2276\n",
      "Fell Asleep                                                1782\n",
      "Physical Disability                                        1704\n",
      "Glare                                                      1490\n",
      "Obstruction/Debris                                         1193\n",
      "Failure to Keep Right                                      1058\n",
      "Steering Failure                                            890\n",
      "Pavement Defective                                          752\n",
      "Driverless/Runaway Vehicle                                  638\n",
      "Illnes                                                      598\n",
      "Tire Failure/Inadequate                                     583\n",
      "Animals Action                                              553\n",
      "Other Electronic Device                                     493\n",
      "Accelerator Defective                                       395\n",
      "Illness                                                     391\n",
      "Lane Marking Improper/Inadequate                            335\n",
      "Drugs (illegal)                                             299\n",
      "Traffic Control Device Improper/Non-Working                 265\n",
      "Reaction to Other Uninvolved Vehicle                        217\n",
      "Cell Phone (hand-Held)                                      200\n",
      "Tow Hitch Defective                                          75\n",
      "80                                                           70\n",
      "Other Lighting Defects                                       68\n",
      "Cell Phone (hands-free)                                      64\n",
      "Drugs (Illegal)                                              64\n",
      "Vehicle Vandalism                                            61\n",
      "Tinted Windows                                               57\n",
      "Eating or Drinking                                           52\n",
      "Name: CONTRIBUTING FACTOR VEHICLE 1, dtype: int64\n"
     ]
    }
   ],
   "source": [
    "print(data[\"CONTRIBUTING FACTOR VEHICLE 1\"].value_counts())\n",
    "data = data.drop(data[data['CONTRIBUTING FACTOR VEHICLE 1']=='1'].index)\n",
    "data = data.drop(data[data['CONTRIBUTING FACTOR VEHICLE 1']=='Listening/Using Headphones'].index)\n",
    "data = data.drop(data[data['CONTRIBUTING FACTOR VEHICLE 1']=='Cell Phone (hand-held)'].index)\n",
    "data = data.drop(data[data['CONTRIBUTING FACTOR VEHICLE 1']=='Windshield Inadequate'].index)\n",
    "data = data.drop(data[data['CONTRIBUTING FACTOR VEHICLE 1']=='Shoulders Defective/Improper'].index)\n",
    "data = data.drop(data[data['CONTRIBUTING FACTOR VEHICLE 1']=='Texting'].index)\n",
    "data = data.drop(data[data['CONTRIBUTING FACTOR VEHICLE 1']=='Headlights Defective'].index)\n",
    "data = data.drop(data[data['CONTRIBUTING FACTOR VEHICLE 1']=='Using On Board Navigation Device'].index)\n",
    "print(data[\"CONTRIBUTING FACTOR VEHICLE 1\"].value_counts())"
   ]
  },
  {
   "cell_type": "code",
   "execution_count": 16,
   "metadata": {},
   "outputs": [
    {
     "name": "stdout",
     "output_type": "stream",
     "text": [
      "Unspecified                       478989\n",
      "Driver Inattention/Distraction     37042\n",
      "Other Vehicular                    11362\n",
      "Failure to Yield Right-of-Way       6511\n",
      "Following Too Closely               5961\n",
      "                                   ...  \n",
      "Shoulders Defective/Improper           3\n",
      "Vehicle Vandalism                      3\n",
      "Cell Phone (hand-held)                 3\n",
      "Texting                                2\n",
      "1                                      2\n",
      "Name: CONTRIBUTING FACTOR VEHICLE 2, Length: 61, dtype: int64\n",
      "None\n",
      "Unspecified                                              478989\n",
      "Driver Inattention/Distraction                            37042\n",
      "Other Vehicular                                           11362\n",
      "Failure to Yield Right-of-Way                              6511\n",
      "Following Too Closely                                      5961\n",
      "Passing or Lane Usage Improper                             5899\n",
      "Passing Too Closely                                        4733\n",
      "Backing Unsafely                                           3414\n",
      "Unsafe Lane Changing                                       2832\n",
      "Turning Improperly                                         2822\n",
      "Traffic Control Disregarded                                2438\n",
      "Driver Inexperience                                        2169\n",
      "Unsafe Speed                                               1844\n",
      "Fatigued/Drowsy                                            1581\n",
      "View Obstructed/Limited                                    1106\n",
      "Lost Consciousness                                         1036\n",
      "Pavement Slippery                                           997\n",
      "Reaction to Uninvolved Vehicle                              991\n",
      "Pedestrian/Bicyclist/Other Pedestrian Error/Confusion       939\n",
      "Oversized Vehicle                                           876\n",
      "Prescription Medication                                     575\n",
      "Passenger Distraction                                       510\n",
      "Alcohol Involvement                                         484\n",
      "Aggressive Driving/Road Rage                                474\n",
      "Physical Disability                                         453\n",
      "Outside Car Distraction                                     444\n",
      "Failure to Keep Right                                       245\n",
      "Lane Marking Improper/Inadequate                            188\n",
      "Obstruction/Debris                                          168\n",
      "Other Electronic Device                                     151\n",
      "Glare                                                       148\n",
      "Traffic Control Device Improper/Non-Working                 140\n",
      "Brakes Defective                                            105\n",
      "Illness                                                      90\n",
      "Fell Asleep                                                  88\n",
      "Reaction to Other Uninvolved Vehicle                         72\n",
      "Pavement Defective                                           53\n",
      "Driverless/Runaway Vehicle                                   41\n",
      "Steering Failure                                             30\n",
      "Cell Phone (hand-Held)                                       29\n",
      "Accelerator Defective                                        28\n",
      "Illnes                                                       24\n",
      "Animals Action                                               23\n",
      "Drugs (illegal)                                              21\n",
      "Name: CONTRIBUTING FACTOR VEHICLE 2, dtype: int64\n",
      "None\n"
     ]
    }
   ],
   "source": [
    "print(print(data[\"CONTRIBUTING FACTOR VEHICLE 2\"].value_counts()))\n",
    "value_counts = data[\"CONTRIBUTING FACTOR VEHICLE 2\"].value_counts(ascending=True)\n",
    "remove = value_counts[value_counts <= 20].index\n",
    "data = data[~data[\"CONTRIBUTING FACTOR VEHICLE 2\"].isin(remove)]\n",
    "print(print(data[\"CONTRIBUTING FACTOR VEHICLE 2\"].value_counts()))"
   ]
  },
  {
   "cell_type": "code",
   "execution_count": 17,
   "metadata": {},
   "outputs": [
    {
     "name": "stdout",
     "output_type": "stream",
     "text": [
      "Unspecified                                              36038\n",
      "Other Vehicular                                            701\n",
      "Driver Inattention/Distraction                             358\n",
      "Following Too Closely                                      247\n",
      "Fatigued/Drowsy                                             56\n",
      "Passing or Lane Usage Improper                              54\n",
      "Pavement Slippery                                           45\n",
      "Driver Inexperience                                         35\n",
      "Backing Unsafely                                            29\n",
      "Alcohol Involvement                                         28\n",
      "Traffic Control Disregarded                                 24\n",
      "Reaction to Uninvolved Vehicle                              22\n",
      "Failure to Yield Right-of-Way                               22\n",
      "Unsafe Speed                                                20\n",
      "Passing Too Closely                                         20\n",
      "Turning Improperly                                          18\n",
      "Aggressive Driving/Road Rage                                16\n",
      "Unsafe Lane Changing                                        13\n",
      "Outside Car Distraction                                     13\n",
      "Pedestrian/Bicyclist/Other Pedestrian Error/Confusion       12\n",
      "Fell Asleep                                                  9\n",
      "Physical Disability                                          9\n",
      "Brakes Defective                                             8\n",
      "Other Electronic Device                                      6\n",
      "Failure to Keep Right                                        6\n",
      "Driverless/Runaway Vehicle                                   6\n",
      "Lost Consciousness                                           5\n",
      "Obstruction/Debris                                           5\n",
      "Passenger Distraction                                        4\n",
      "Prescription Medication                                      4\n",
      "View Obstructed/Limited                                      4\n",
      "Drugs (Illegal)                                              3\n",
      "Oversized Vehicle                                            3\n",
      "Drugs (illegal)                                              3\n",
      "Glare                                                        2\n",
      "Traffic Control Device Improper/Non-Working                  2\n",
      "Animals Action                                               2\n",
      "Steering Failure                                             1\n",
      "Pavement Defective                                           1\n",
      "Tire Failure/Inadequate                                      1\n",
      "Tinted Windows                                               1\n",
      "Lane Marking Improper/Inadequate                             1\n",
      "Illness                                                      1\n",
      "Name: CONTRIBUTING FACTOR VEHICLE 3, dtype: int64\n",
      "None\n"
     ]
    }
   ],
   "source": [
    "print(print(data[\"CONTRIBUTING FACTOR VEHICLE 3\"].value_counts()))\n"
   ]
  },
  {
   "cell_type": "code",
   "execution_count": 18,
   "metadata": {},
   "outputs": [
    {
     "name": "stdout",
     "output_type": "stream",
     "text": [
      "Unspecified                       8177\n",
      "Other Vehicular                    148\n",
      "Driver Inattention/Distraction      24\n",
      "Following Too Closely               19\n",
      "Fatigued/Drowsy                     10\n",
      "Pavement Slippery                    8\n",
      "Alcohol Involvement                  5\n",
      "Traffic Control Disregarded          5\n",
      "Unsafe Speed                         5\n",
      "Reaction to Uninvolved Vehicle       5\n",
      "Passing or Lane Usage Improper       4\n",
      "Backing Unsafely                     3\n",
      "Failure to Yield Right-of-Way        3\n",
      "Passing Too Closely                  2\n",
      "Fell Asleep                          2\n",
      "Aggressive Driving/Road Rage         2\n",
      "Drugs (illegal)                      2\n",
      "Brakes Defective                     2\n",
      "Outside Car Distraction              1\n",
      "Turning Improperly                   1\n",
      "Other Electronic Device              1\n",
      "Driver Inexperience                  1\n",
      "Failure to Keep Right                1\n",
      "Drugs (Illegal)                      1\n",
      "Driverless/Runaway Vehicle           1\n",
      "Animals Action                       1\n",
      "Physical Disability                  1\n",
      "Illness                              1\n",
      "Name: CONTRIBUTING FACTOR VEHICLE 4, dtype: int64\n",
      "None\n"
     ]
    }
   ],
   "source": [
    "print(print(data[\"CONTRIBUTING FACTOR VEHICLE 4\"].value_counts()))\n"
   ]
  },
  {
   "cell_type": "code",
   "execution_count": null,
   "metadata": {},
   "outputs": [],
   "source": []
  }
 ],
 "metadata": {
  "kernelspec": {
   "display_name": "Python 3",
   "language": "python",
   "name": "python3"
  },
  "language_info": {
   "codemirror_mode": {
    "name": "ipython",
    "version": 3
   },
   "file_extension": ".py",
   "mimetype": "text/x-python",
   "name": "python",
   "nbconvert_exporter": "python",
   "pygments_lexer": "ipython3",
   "version": "3.7.4"
  }
 },
 "nbformat": 4,
 "nbformat_minor": 2
}
