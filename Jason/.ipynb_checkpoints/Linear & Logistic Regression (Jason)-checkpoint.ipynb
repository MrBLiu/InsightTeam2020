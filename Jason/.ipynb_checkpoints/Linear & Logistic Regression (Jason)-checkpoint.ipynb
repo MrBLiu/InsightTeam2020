{
 "cells": [
  {
   "cell_type": "code",
   "execution_count": null,
   "metadata": {},
   "outputs": [],
   "source": [
    "import pandas as pd\n",
    "import numpy as np\n",
    "from sklearn import datasets\n",
    "from sklearn.tree import DecisionTreeRegressor\n",
    "from sklearn.tree import DecisionTreeClassifier\n",
    "from sklearn.ensemble import RandomForestClassifier\n",
    "from sklearn.ensemble import RandomForestRegressor\n",
    "from sklearn.model_selection import train_test_split\n",
    "from sklearn.metrics import mean_squared_error, accuracy_score\n",
    "from sklearn.externals.six import StringIO\n",
    "from sklearn.neighbors import KNeighborsClassifier\n",
    "from sklearn.preprocessing import StandardScaler\n",
    "from sklearn.model_selection import cross_validate\n",
    "from sklearn.model_selection import cross_val_score\n",
    "from sklearn.model_selection import GridSearchCV\n",
    "from sklearn.metrics import classification_report, confusion_matrix\n",
    "from sklearn.metrics import precision_score\n",
    "from sklearn.metrics import accuracy_score\n",
    "from sklearn.metrics import roc_auc_score\n",
    "from sklearn import metrics\n",
    "from sklearn.preprocessing import Imputer\n",
    "from matplotlib import pyplot as plt\n",
    "%matplotlib inline\n",
    "import seaborn as sns\n",
    "sns.set(style='whitegrid')\n",
    "from IPython.display import Image\n",
    "import pydotplus\n",
    "from sklearn.tree import export_graphviz\n",
    "from scipy import stats\n",
    "import math\n",
    "from sklearn.linear_model import LinearRegression, LogisticRegression\n",
    "import seaborn as sns\n",
    "sns.set(rc={'figure.figsize':(6,6)},font_scale=1,style='whitegrid')\n",
    "\n"
   ]
  },
  {
   "cell_type": "code",
   "execution_count": null,
   "metadata": {},
   "outputs": [],
   "source": [
    "df = pd.read_csv(r\"C:\\Users\\Jason Liu\\Downloads\\Motor_Vehicle_Collisions_-_Crashes.csv\")\n",
    "number_features = [\"NUMBER OF PERSONS INJURED\",\"NUMTIME\"]\n",
    "\n",
    "def replace_missing_value(df, number_features):\n",
    "\n",
    "    imputer = Imputer(strategy=\"median\")\n",
    "    df_num = df[number_features]\n",
    "    imputer.fit(df_num)\n",
    "    X = imputer.transform(df_num)\n",
    "    res_def = pd.DataFrame(X, columns=df_num.columns)\n",
    "    return res_def\n",
    "\n",
    "df[\"NUMBER OF PERSONS INJURED\"] = replace_missing_value(df,[\"NUMBER OF PERSONS INJURED\"])\n",
    "df[\"NUMTIME\"] = replace_missing_value(df,[\"NUMTIME\"])"
   ]
  },
  {
   "cell_type": "code",
   "execution_count": null,
   "metadata": {},
   "outputs": [],
   "source": [
    "feature_col = ['NUMTIME']\n",
    "X = df[feature_col]\n",
    "y = df[\"NUMBER OF PERSONS INJURED\"]\n",
    "\n",
    "\n",
    "linreg = LinearRegression()\n",
    "linreg.fit(X, y)\n",
    "\n",
    "# print the coefficients\n",
    "print(\"The y intercept:\", linreg.intercept_)\n",
    "print(\"The single coefficient:\", list(zip(feature_col,linreg.coef_)))\n",
    "\n",
    "# evaluate R^2\n",
    "y_pred = linreg.predict(X)\n",
    "print(\"R^2: \", metrics.r2_score(y, y_pred))\n",
    "\n",
    "# Evaluate MSE\n",
    "print(\"MSE: \", metrics.mean_squared_error(y, y_pred))"
   ]
  },
  {
   "cell_type": "code",
   "execution_count": null,
   "metadata": {},
   "outputs": [],
   "source": [
    "X_mult = df[feature_col]\n",
    "y_mult = df[\"NUMBER OF PERSONS INJURED\"]\n",
    "\n",
    "mult_logreg = LogisticRegression()\n",
    "mult_logreg.fit(X_mult, y_mult)\n",
    "y_mult_pred = mult_logreg.predict(X_mult)\n",
    "X_mult_train, X_mult_test, y_mult_train, y_mult_test = train_test_split(X_mult, y_mult, test_size=0.3, random_state=1)\n",
    "print(\"training data size:\",X_mult_train.shape)\n",
    "print(\"testing data size:\",X_mult_test.shape)\n",
    "#train on training set\n",
    "mult_logreg2 = LogisticRegression()\n",
    "mult_logreg2.fit(X_mult_train, y_mult_train)\n",
    "\n",
    "#generate predictions on training set and evaluate\n",
    "y_mult_pred_train = mult_logreg2.predict(X_mult_train)\n",
    "print(\"Training set RMSE:\",np.sqrt(metrics.mean_squared_error(y_mult_train, y_mult_pred_train)))\n",
    "\n",
    "#generate predictions on test set and evaluate\n",
    "y_mult_pred_test = mult_logreg2.predict(X_mult_test)\n",
    "print(\"Test set RMSE:\",np.sqrt(metrics.mean_squared_error(y_mult_test, y_mult_pred_test)))\n",
    "print(\"MAE for data:\",metrics.mean_absolute_error(y_mult_test, y_mult_pred_test))\n",
    "print(\"MSE for data:\",metrics.mean_squared_error(y_mult_test, y_mult_pred_test))\n",
    "print(\"Test set RMSE:\",np.sqrt(metrics.mean_squared_error(y_mult_test, y_mult_pred_test)))\n",
    "\n",
    "print(mult_logreg2.coef_)"
   ]
  },
  {
   "cell_type": "code",
   "execution_count": null,
   "metadata": {},
   "outputs": [],
   "source": [
    "sns.set(rc={'figure.figsize':(20,10)},font_scale=1,style='whitegrid')\n",
    "\n",
    "plot = sns.regplot(x=df['NUMTIME'], y= df['NUMBER OF PERSONS INJURED'], data=df, ci = None, scatter_kws={\"color\": \"blue\"}, line_kws={\"color\": \"red\"})"
   ]
  }
 ],
 "metadata": {
  "kernelspec": {
   "display_name": "Python 3",
   "language": "python",
   "name": "python3"
  },
  "language_info": {
   "codemirror_mode": {
    "name": "ipython",
    "version": 3
   },
   "file_extension": ".py",
   "mimetype": "text/x-python",
   "name": "python",
   "nbconvert_exporter": "python",
   "pygments_lexer": "ipython3",
   "version": "3.7.3"
  }
 },
 "nbformat": 4,
 "nbformat_minor": 2
}
