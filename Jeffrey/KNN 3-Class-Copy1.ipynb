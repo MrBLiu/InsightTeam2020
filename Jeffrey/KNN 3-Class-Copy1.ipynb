{
 "cells": [
  {
   "cell_type": "code",
   "execution_count": 32,
   "metadata": {},
   "outputs": [],
   "source": [
    "#data handling/modeling\n",
    "import pandas as pd\n",
    "import numpy as np\n",
    "from sklearn.linear_model import LinearRegression\n",
    "from sklearn.model_selection import train_test_split\n",
    "from sklearn import metrics\n",
    "import scipy.stats as stats\n",
    "%matplotlib inline\n",
    "import matplotlib.pyplot as plt\n",
    "import matplotlib\n",
    "from sklearn.cluster import KMeans\n",
    "import seaborn as sns; sns.set()\n",
    "import csv\n",
    "from random import seed\n",
    "from random import randrange\n",
    "from csv import reader\n",
    "from math import sqrt\n",
    "from sklearn.neighbors import KNeighborsClassifier\n",
    "from sklearn.utils import resample\n",
    "from imblearn.over_sampling import SMOTE\n",
    "from collections import Counter\n",
    "from sklearn.feature_selection import RFECV\n",
    "\n",
    "\n",
    "#svm\n",
    "from sklearn import datasets\n",
    "from sklearn import svm \n",
    "from sklearn.model_selection import train_test_split\n",
    "from sklearn.model_selection import cross_val_score\n",
    "from sklearn.model_selection import GridSearchCV\n",
    "from sklearn.metrics import auc, confusion_matrix, roc_curve\n",
    "\n",
    "\n",
    "#geotools\n",
    "import geopy\n",
    "import geocoder\n",
    "import geopandas as gpd\n",
    "from geopandas.tools import geocode\n",
    "from geopy.geocoders import Nominatim"
   ]
  },
  {
   "cell_type": "code",
   "execution_count": 39,
   "metadata": {},
   "outputs": [
    {
     "name": "stdout",
     "output_type": "stream",
     "text": [
      "NUMTIME                          float64\n",
      "BOROUGH                           object\n",
      "LATITUDE                         float64\n",
      "LONGITUDE                        float64\n",
      "NUMBER OF PERSONS INJURED        float64\n",
      "NUMBER OF PERSONS KILLED         float64\n",
      "NUMBER OF PEDESTRIANS INJURED      int64\n",
      "NUMBER OF PEDESTRIANS KILLED       int64\n",
      "NUMBER OF CYCLIST INJURED          int64\n",
      "NUMBER OF CYCLIST KILLED           int64\n",
      "NUMBER OF MOTORIST INJURED         int64\n",
      "NUMBER OF MOTORIST KILLED          int64\n",
      "CONTRIBUTING FACTOR VEHICLE 1     object\n",
      "CONTRIBUTING FACTOR VEHICLE 2     object\n",
      "dtype: object\n",
      "(1048575, 14)\n"
     ]
    }
   ],
   "source": [
    "data = pd.read_csv(\"Motor_Vehicle_Crashes_Reduced.csv\")\n",
    "print(data.dtypes)\n",
    "print(data.shape)"
   ]
  },
  {
   "cell_type": "code",
   "execution_count": 47,
   "metadata": {},
   "outputs": [],
   "source": [
    "def cyclist_to_bin(x):\n",
    "    if x == 0:\n",
    "        return 0\n",
    "    else:\n",
    "        return 1\n",
    "def motorist_to_bin(x):\n",
    "    if x == 0:\n",
    "        return 0\n",
    "    else:\n",
    "        return 1\n",
    "def pedestrian_to_bin(x):\n",
    "    if x == 0:\n",
    "        return 0\n",
    "    else:\n",
    "        return 1\n",
    "def rush_to_bin(x):\n",
    "    if 7.5<x<9 or 16.5<x<19:\n",
    "        return 1\n",
    "    else:\n",
    "        return 0\n",
    "def persons_to_bin(x):\n",
    "    if x == 0:\n",
    "        return 0\n",
    "    else:\n",
    "        return 1\n",
    "def persons_to_class(x):\n",
    "    if x[2] == 1:\n",
    "        return 1\n",
    "    if x[3] == 1:\n",
    "        return 2\n",
    "    if x[4] == 1:\n",
    "        return 3\n",
    "    else:\n",
    "        return 0\n",
    "def multiple_personas(x):\n",
    "    return x[2]+x[3]+x[4]"
   ]
  },
  {
   "cell_type": "code",
   "execution_count": 41,
   "metadata": {},
   "outputs": [],
   "source": [
    "data[\"CYCLIST_AFFECTED\"] = data[\"NUMBER OF CYCLIST INJURED\"]+data[\"NUMBER OF CYCLIST KILLED\"]\n",
    "data[\"MOTORIST_AFFECTED\"] = data[\"NUMBER OF MOTORIST INJURED\"]+data[\"NUMBER OF MOTORIST KILLED\"]\n",
    "data[\"PEDESTRIAN_AFFECTED\"] = data[\"NUMBER OF PEDESTRIANS INJURED\"]+data[\"NUMBER OF PEDESTRIANS KILLED\"]\n",
    "data['PERSONS_AFFECTED'] = data['NUMBER OF PERSONS KILLED'] + data['NUMBER OF PERSONS INJURED']\n",
    "data['PERSONS_TF']= data['PERSONS_AFFECTED'].apply(persons_to_bin)\n",
    "data['MOTORIST_TF']= data[\"MOTORIST_AFFECTED\"].apply(motorist_to_bin)\n",
    "data['CYCLIST_TF']= data[\"CYCLIST_AFFECTED\"].apply(cyclist_to_bin)\n",
    "data['PEDESTRIAN_TF']= data[\"PEDESTRIAN_AFFECTED\"].apply(pedestrian_to_bin)\n",
    "data['RUSH_TF'] = data['NUMTIME'].apply(rush_to_bin)\n",
    "data['PERSONS_AFFECTED'] = data['NUMBER OF PERSONS KILLED'] + data['NUMBER OF PERSONS INJURED']\n"
   ]
  },
  {
   "cell_type": "code",
   "execution_count": 42,
   "metadata": {},
   "outputs": [
    {
     "name": "stdout",
     "output_type": "stream",
     "text": [
      "Human            700952\n",
      "Unspecified      271594\n",
      "Vehicular         47800\n",
      "Environmental     24862\n",
      "Name: CONTRIBUTING FACTOR VEHICLE 1, dtype: int64\n",
      "None\n"
     ]
    }
   ],
   "source": [
    "value_counts = data[\"CONTRIBUTING FACTOR VEHICLE 1\"].value_counts(ascending=True)\n",
    "remove = value_counts[value_counts <= 20].index\n",
    "data = data[~data['CONTRIBUTING FACTOR VEHICLE 1'].isin(remove)]\n",
    "\n",
    "data['CONTRIBUTING FACTOR VEHICLE 1'] = data['CONTRIBUTING FACTOR VEHICLE 1'].replace(['Driver Inattention/Distraction','Following Too Closely','Failure to Yield Right-of-Way','Backing Unsafely','Passing Too Closely','Unsafe Lane Changing','Passing or Lane Usage Improper','Turning Improperly','Traffic Control Disregarded','Driver Inexperience','Reaction to Uninvolved Vehicle','Unsafe Speed','Fatigued/Drowsy','Alcohol Involvement','Lost Consciousness','Aggressive Driving/Road Rage','Fell Asleep','Illnes','Drugs (illegal)','Drugs (Illegal)','Texting','Outside Car Distraction','Passenger Distraction','Prescription Medication','Failure to Keep Right','Illness','Other Electronic Device','Cell Phone (hand-Held)','Cell Phone (hands-free)','Eating or Drinking','Pedestrian/Bicyclist/Other Pedestrian Error/Confusion','Physical Disability','Reaction to Other Uninvolved Vehicle','Using On Board Navigation Device','Tinted Windows','Vehicle Vandalism','Cell Phone (hand-held)'],'Human')\n",
    "data['CONTRIBUTING FACTOR VEHICLE 1'] = data['CONTRIBUTING FACTOR VEHICLE 1'].replace(['Other Vehicular','Oversized Vehicle','Brakes Defective','Steering Failure','Tire Failure/Inadequate','Driverless/Runaway Vehicle','Accelerator Defective','Other Lighting Defects','Tow Hitch Defective','Headlights Defective','Windshield Inadequate'],'Vehicular')\n",
    "data['CONTRIBUTING FACTOR VEHICLE 1'] = data['CONTRIBUTING FACTOR VEHICLE 1'].replace(['Pavement Slippery','View Obstructed/Limited','Glare','Obstruction/Debris','Pavement Defective','Animals Action','Lane Marking Improper/Inadequate','Traffic Control Device Improper/Non-Working','Shoulders Defective/Improper'],'Environmental')\n",
    "data['CONTRIBUTING FACTOR VEHICLE 1'] = data['CONTRIBUTING FACTOR VEHICLE 1'].replace(['80'],'Unspecified')\n",
    "print(print(data['CONTRIBUTING FACTOR VEHICLE 1'].value_counts()))\n"
   ]
  },
  {
   "cell_type": "code",
   "execution_count": 43,
   "metadata": {},
   "outputs": [],
   "source": [
    "factor_dummy = data['CONTRIBUTING FACTOR VEHICLE 1'].str.get_dummies()\n",
    "data = pd.concat([data,factor_dummy],axis=1)\n",
    "borough_dummy = data.BOROUGH.str.get_dummies()\n",
    "data = pd.concat([data,borough_dummy],axis=1)\n"
   ]
  },
  {
   "cell_type": "code",
   "execution_count": 44,
   "metadata": {},
   "outputs": [
    {
     "name": "stdout",
     "output_type": "stream",
     "text": [
      "NUMTIME                          float64\n",
      "BOROUGH                           object\n",
      "LATITUDE                         float64\n",
      "LONGITUDE                        float64\n",
      "NUMBER OF PERSONS INJURED        float64\n",
      "NUMBER OF PERSONS KILLED         float64\n",
      "NUMBER OF PEDESTRIANS INJURED      int64\n",
      "NUMBER OF PEDESTRIANS KILLED       int64\n",
      "NUMBER OF CYCLIST INJURED          int64\n",
      "NUMBER OF CYCLIST KILLED           int64\n",
      "NUMBER OF MOTORIST INJURED         int64\n",
      "NUMBER OF MOTORIST KILLED          int64\n",
      "CONTRIBUTING FACTOR VEHICLE 1     object\n",
      "CONTRIBUTING FACTOR VEHICLE 2     object\n",
      "CYCLIST_AFFECTED                   int64\n",
      "MOTORIST_AFFECTED                  int64\n",
      "PEDESTRIAN_AFFECTED                int64\n",
      "PERSONS_AFFECTED                 float64\n",
      "PERSONS_TF                         int64\n",
      "MOTORIST_TF                        int64\n",
      "CYCLIST_TF                         int64\n",
      "PEDESTRIAN_TF                      int64\n",
      "RUSH_TF                            int64\n",
      "Environmental                      int64\n",
      "Human                              int64\n",
      "Unspecified                        int64\n",
      "Vehicular                          int64\n",
      "BRONX                              int64\n",
      "BROOKLYN                           int64\n",
      "MANHATTAN                          int64\n",
      "QUEENS                             int64\n",
      "STATEN ISLAND                      int64\n",
      "dtype: object\n"
     ]
    }
   ],
   "source": [
    "print(data.dtypes)"
   ]
  },
  {
   "cell_type": "code",
   "execution_count": 45,
   "metadata": {},
   "outputs": [
    {
     "name": "stdout",
     "output_type": "stream",
     "text": [
      "NUMTIME          float64\n",
      "PERSONS_TF         int64\n",
      "MOTORIST_TF        int64\n",
      "CYCLIST_TF         int64\n",
      "PEDESTRIAN_TF      int64\n",
      "RUSH_TF            int64\n",
      "Environmental      int64\n",
      "Human              int64\n",
      "Unspecified        int64\n",
      "Vehicular          int64\n",
      "BRONX              int64\n",
      "BROOKLYN           int64\n",
      "MANHATTAN          int64\n",
      "QUEENS             int64\n",
      "STATEN ISLAND      int64\n",
      "dtype: object\n"
     ]
    }
   ],
   "source": [
    "data.drop(data.columns[1:18],axis=1,inplace=True)\n",
    "print(data.dtypes)"
   ]
  },
  {
   "cell_type": "markdown",
   "metadata": {},
   "source": [
    "There are 206887 normal cases and 1162 edge cases where there are multiple classes affected. These edge cases make up about .5% of the dataset. The dataset is already reduced to 19.84% of the original dataset"
   ]
  },
  {
   "cell_type": "code",
   "execution_count": 48,
   "metadata": {},
   "outputs": [
    {
     "data": {
      "text/plain": [
       "0.0    840499\n",
       "1.0    206887\n",
       "2.0      1155\n",
       "3.0         7\n",
       "Name: EDGE_CASES, dtype: int64"
      ]
     },
     "execution_count": 48,
     "metadata": {},
     "output_type": "execute_result"
    }
   ],
   "source": [
    "data['EDGE_CASES'] = data.apply(multiple_personas,axis = 1)\n",
    "data.EDGE_CASES.value_counts()"
   ]
  },
  {
   "cell_type": "code",
   "execution_count": 51,
   "metadata": {},
   "outputs": [
    {
     "name": "stdout",
     "output_type": "stream",
     "text": [
      "(206887, 16)\n",
      "NUMTIME          float64\n",
      "PERSONS_TF         int64\n",
      "MOTORIST_TF        int64\n",
      "CYCLIST_TF         int64\n",
      "PEDESTRIAN_TF      int64\n",
      "RUSH_TF            int64\n",
      "Environmental      int64\n",
      "Human              int64\n",
      "Unspecified        int64\n",
      "Vehicular          int64\n",
      "BRONX              int64\n",
      "BROOKLYN           int64\n",
      "MANHATTAN          int64\n",
      "QUEENS             int64\n",
      "STATEN ISLAND      int64\n",
      "EDGE_CASES       float64\n",
      "dtype: object\n"
     ]
    }
   ],
   "source": [
    "index = data[(data['EDGE_CASES'] != 1)].index\n",
    "data.drop(index,inplace=True)\n",
    "print(data.shape)\n",
    "print(data.dtypes)"
   ]
  },
  {
   "cell_type": "markdown",
   "metadata": {},
   "source": [
    "The breakdown of person classes is dominated by pedestrians (65.8%), followed by motorists (23.67%) and cyclists (10.5%)"
   ]
  },
  {
   "cell_type": "code",
   "execution_count": 53,
   "metadata": {},
   "outputs": [
    {
     "data": {
      "text/plain": [
       "1    136168\n",
       "3     48972\n",
       "2     21747\n",
       "Name: PERSONS_CLASS, dtype: int64"
      ]
     },
     "execution_count": 53,
     "metadata": {},
     "output_type": "execute_result"
    }
   ],
   "source": [
    "data['PERSONS_CLASS'] = data.apply(persons_to_class,axis=1)\n",
    "data.PERSONS_CLASS.value_counts()"
   ]
  },
  {
   "cell_type": "code",
   "execution_count": 67,
   "metadata": {
    "scrolled": true
   },
   "outputs": [
    {
     "data": {
      "text/plain": [
       "1    136168\n",
       "3     48972\n",
       "2     21747\n",
       "Name: PERSONS_CLASS, dtype: int64"
      ]
     },
     "execution_count": 67,
     "metadata": {},
     "output_type": "execute_result"
    }
   ],
   "source": [
    "model = KNeighborsClassifier()\n",
    "pred = list(zip(data['NUMTIME'],data['MANHATTAN'],data['QUEENS'],data['BRONX'],data['STATEN ISLAND'],data['BROOKLYN'],data['Human'],data['Environmental'],data['Vehicular'],data['Unspecified']))\n",
    "resp = data['PERSONS_CLASS']\n",
    "resp.value_counts()"
   ]
  },
  {
   "cell_type": "code",
   "execution_count": 68,
   "metadata": {},
   "outputs": [
    {
     "name": "stdout",
     "output_type": "stream",
     "text": [
      "Resampled dataset shape Counter({1: 136168, 2: 136168, 3: 136168})\n"
     ]
    }
   ],
   "source": [
    "#SMOTE resampling!\n",
    "\n",
    "sm = SMOTE(random_state=42)\n",
    "x_res,y_res = sm.fit_resample(pred,resp)\n",
    "print('Resampled dataset shape %s' % Counter(y_res))"
   ]
  },
  {
   "cell_type": "code",
   "execution_count": 69,
   "metadata": {},
   "outputs": [
    {
     "name": "stdout",
     "output_type": "stream",
     "text": [
      "Accuracy: 0.4755532345453359\n",
      "Null accuracy on the test set:  1.999649128533194\n"
     ]
    }
   ],
   "source": [
    "X_train,X_test,y_train,y_test = train_test_split(x_res,y_res,test_size = .3)\n",
    "model.fit(X_train,y_train)\n",
    "y_pred = model.predict(X_test)\n",
    "print(\"Accuracy:\",metrics.accuracy_score(y_test, y_pred))\n",
    "\n",
    "#print(\"Sensitivity/Recall (TPR): \",metrics.recall_score(y_test,y_pred))\n",
    "#print(\"Precision (PPV): \", metrics.precision_score(y_test,y_pred))\n",
    "#print(\"F1:\", metrics.f1_score(y_test,y_pred))\n",
    "\n",
    "print(\"Null accuracy on the test set: \",y_test.mean())\n",
    "#print(\"Accuracy is:\",metrics.accuracy_score(y_test,y_pred))\n",
    "#print(metrics.classification_report(y_test,y_pred))"
   ]
  },
  {
   "cell_type": "code",
   "execution_count": 70,
   "metadata": {},
   "outputs": [
    {
     "data": {
      "text/plain": [
       "[Text(30.5, 0.5, 'Actual Class'),\n",
       " Text(0.5, 30.5, 'Predicted Class'),\n",
       " Text(0.5, 1, 'Confusion Matrix')]"
      ]
     },
     "execution_count": 70,
     "metadata": {},
     "output_type": "execute_result"
    },
    {
     "data": {
      "image/png": "[encoded data removed]",
      "text/plain": [
       "<Figure size 432x432 with 1 Axes>"
      ]
     },
     "metadata": {},
     "output_type": "display_data"
    }
   ],
   "source": [
    "X_train, X_test, y_train, y_test = train_test_split(x_res,y_res, test_size=0.3)\n",
    "model.fit(X_train,y_train)\n",
    "\n",
    "test_cf = pd.DataFrame(confusion_matrix(y_test,model.predict(X_test)))\n",
    "\n",
    "fig, ax = plt.subplots(figsize=(6,6))\n",
    "ax = sns.heatmap(test_cf,annot=True,fmt='d',cmap='Blues',cbar=False)\n",
    "ax.set(xlabel='Predicted Class',ylabel='Actual Class',title='Confusion Matrix')"
   ]
  },
  {
   "cell_type": "code",
   "execution_count": 74,
   "metadata": {},
   "outputs": [
    {
     "data": {
      "text/plain": [
       "[Text(30.5, 0.5, 'Actual Class'),\n",
       " Text(0.5, 30.5, 'Predicted Class'),\n",
       " Text(0.5, 1, 'Normalized Confusion Matrix')]"
      ]
     },
     "execution_count": 74,
     "metadata": {},
     "output_type": "execute_result"
    },
    {
     "data": {
      "image/png": "[encoded data removed]",
      "text/plain": [
       "<Figure size 432x432 with 1 Axes>"
      ]
     },
     "metadata": {},
     "output_type": "display_data"
    }
   ],
   "source": [
    "test_cf = confusion_matrix(y_test,model.predict(X_test))\n",
    "test_cf = test_cf.astype('float') / test_cf.sum(axis=1)[:, np.newaxis]\n",
    "test_cf = pd.DataFrame((test_cf))\n",
    "                           \n",
    "fig, ax = plt.subplots(figsize=(6,6))\n",
    "ax = sns.heatmap(test_cf,annot=True,cmap='Blues',cbar=False,fmt='.0%')\n",
    "ax.set(xlabel='Predicted Class',ylabel='Actual Class',title='Normalized Confusion Matrix')"
   ]
  },
  {
   "cell_type": "code",
   "execution_count": 75,
   "metadata": {},
   "outputs": [
    {
     "data": {
      "text/plain": [
       "0    159616\n",
       "1     47271\n",
       "Name: RUSH_TF, dtype: int64"
      ]
     },
     "execution_count": 75,
     "metadata": {},
     "output_type": "execute_result"
    }
   ],
   "source": [
    "model = KNeighborsClassifier()\n",
    "pred = list(zip(data['MANHATTAN'],data['QUEENS'],data['BRONX'],data['STATEN ISLAND'],data['BROOKLYN'],data['Human'],data['Environmental'],data['Vehicular'],data['Unspecified']))\n",
    "resp = data['RUSH_TF']\n",
    "resp.value_counts()"
   ]
  },
  {
   "cell_type": "code",
   "execution_count": 76,
   "metadata": {},
   "outputs": [
    {
     "name": "stdout",
     "output_type": "stream",
     "text": [
      "Resampled dataset shape Counter({0: 159616, 1: 159616})\n"
     ]
    }
   ],
   "source": [
    "#SMOTE resampling!\n",
    "\n",
    "sm = SMOTE(random_state=42)\n",
    "x_res,y_res = sm.fit_resample(pred,resp)\n",
    "print('Resampled dataset shape %s' % Counter(y_res))"
   ]
  },
  {
   "cell_type": "code",
   "execution_count": 77,
   "metadata": {},
   "outputs": [
    {
     "name": "stdout",
     "output_type": "stream",
     "text": [
      "Accuracy: 0.5004072256447739\n",
      "Null accuracy on the test set:  0.4984337475201002\n"
     ]
    }
   ],
   "source": [
    "X_train,X_test,y_train,y_test = train_test_split(x_res,y_res,test_size = .3)\n",
    "model.fit(X_train,y_train)\n",
    "y_pred = model.predict(X_test)\n",
    "print(\"Accuracy:\",metrics.accuracy_score(y_test, y_pred))\n",
    "\n",
    "#print(\"Sensitivity/Recall (TPR): \",metrics.recall_score(y_test,y_pred))\n",
    "#print(\"Precision (PPV): \", metrics.precision_score(y_test,y_pred))\n",
    "#print(\"F1:\", metrics.f1_score(y_test,y_pred))\n",
    "\n",
    "print(\"Null accuracy on the test set: \",y_test.mean())\n",
    "#print(\"Accuracy is:\",metrics.accuracy_score(y_test,y_pred))\n",
    "#print(metrics.classification_report(y_test,y_pred))"
   ]
  },
  {
   "cell_type": "code",
   "execution_count": 78,
   "metadata": {},
   "outputs": [
    {
     "data": {
      "text/plain": [
       "[Text(30.5, 0.5, 'Actual Class'),\n",
       " Text(0.5, 30.5, 'Predicted Class'),\n",
       " Text(0.5, 1, 'Confusion Matrix')]"
      ]
     },
     "execution_count": 78,
     "metadata": {},
     "output_type": "execute_result"
    },
    {
     "data": {
      "image/png": "[encoded data removed]",
      "text/plain": [
       "<Figure size 432x432 with 1 Axes>"
      ]
     },
     "metadata": {},
     "output_type": "display_data"
    }
   ],
   "source": [
    "X_train, X_test, y_train, y_test = train_test_split(x_res,y_res, test_size=0.3)\n",
    "model.fit(X_train,y_train)\n",
    "\n",
    "test_cf = pd.DataFrame(confusion_matrix(y_test,model.predict(X_test)))\n",
    "\n",
    "fig, ax = plt.subplots(figsize=(6,6))\n",
    "ax = sns.heatmap(test_cf,annot=True,fmt='d',cmap='Blues',cbar=False)\n",
    "ax.set(xlabel='Predicted Class',ylabel='Actual Class',title='Confusion Matrix')"
   ]
  },
  {
   "cell_type": "code",
   "execution_count": 79,
   "metadata": {},
   "outputs": [
    {
     "data": {
      "text/plain": [
       "[Text(30.5, 0.5, 'Actual Class'),\n",
       " Text(0.5, 30.5, 'Predicted Class'),\n",
       " Text(0.5, 1, 'Normalized Confusion Matrix')]"
      ]
     },
     "execution_count": 79,
     "metadata": {},
     "output_type": "execute_result"
    },
    {
     "data": {
      "image/png": "[encoded data removed]",
      "text/plain": [
       "<Figure size 432x432 with 1 Axes>"
      ]
     },
     "metadata": {},
     "output_type": "display_data"
    }
   ],
   "source": [
    "test_cf = confusion_matrix(y_test,model.predict(X_test))\n",
    "test_cf = test_cf.astype('float') / test_cf.sum(axis=1)[:, np.newaxis]\n",
    "test_cf = pd.DataFrame((test_cf))\n",
    "                           \n",
    "fig, ax = plt.subplots(figsize=(6,6))\n",
    "ax = sns.heatmap(test_cf,annot=True,cmap='Blues',cbar=False,fmt='.0%')\n",
    "ax.set(xlabel='Predicted Class',ylabel='Actual Class',title='Normalized Confusion Matrix')"
   ]
  }
 ],
 "metadata": {
  "kernelspec": {
   "display_name": "Python 3",
   "language": "python",
   "name": "python3"
  },
  "language_info": {
   "codemirror_mode": {
    "name": "ipython",
    "version": 3
   },
   "file_extension": ".py",
   "mimetype": "text/x-python",
   "name": "python",
   "nbconvert_exporter": "python",
   "pygments_lexer": "ipython3",
   "version": "3.7.6"
  }
 },
 "nbformat": 4,
 "nbformat_minor": 4
}
